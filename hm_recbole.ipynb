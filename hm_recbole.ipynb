{
 "cells": [
  {
   "cell_type": "markdown",
   "id": "5dbbe537",
   "metadata": {
    "papermill": {
     "duration": 0.05132,
     "end_time": "2022-03-07T00:41:14.162457",
     "exception": false,
     "start_time": "2022-03-07T00:41:14.111137",
     "status": "completed"
    },
    "tags": []
   },
   "source": [
    "# 0.Overview\n",
    "In previous [my notebook](http://https://www.kaggle.com/astrung/recbole-lstm-for-recomendation), we tried to use GRU/LSTM model for testing effect of sequential model for recommendation with only iteration.\n",
    "In this notebook, i showed how we can enhance sequential model with item features \n",
    "\n",
    "Due to memory limit and faster testing purpose, we will just use data in 2020.\n",
    "\n",
    "If you want to use with all of interactions in all time, i have created a new atomic dataset here for you: \n",
    "\n",
    "* only interations data: https://www.kaggle.com/astrung/hm-atomic-interation\n",
    "* iterations + item features data: https://www.kaggle.com/astrung/hm-atomic-interation-with-item-feature \n",
    "\n",
    "We also have other limit: we only train model and predict with users who buy more than 40 items and items which is bought by more than 40 people.\n",
    "\n",
    "We will follow below steps for creating model:\n",
    "\n",
    "1. In order to use Recbole, we create atomic file from interaction data and item data\n",
    "2. Because we only use Recbole model for predicting with users who buy more than 40 items, other users will need to fill by default recomendation items. We create most viewed items in last month as defautl recomendation\n",
    "3. We create dataset and train model in recbole.\n",
    "4. We create prediction result by trained model\n",
    "5. We combine recomendation result from most viewed items in last month and Recbole predicted model.\n",
    "\n",
    "I will explain more detail in following cells.\n",
    "\n"
   ]
  },
  {
   "cell_type": "markdown",
   "id": "497645bd",
   "metadata": {
    "papermill": {
     "duration": 0.053946,
     "end_time": "2022-03-07T00:41:31.218588",
     "exception": false,
     "start_time": "2022-03-07T00:41:31.164642",
     "status": "completed"
    },
    "tags": []
   },
   "source": [
    "# 1. Create atomic file"
   ]
  },
  {
   "cell_type": "markdown",
   "id": "b9f5c464",
   "metadata": {
    "papermill": {
     "duration": 0.053065,
     "end_time": "2022-03-07T00:41:31.324761",
     "exception": false,
     "start_time": "2022-03-07T00:41:31.271696",
     "status": "completed"
    },
    "tags": []
   },
   "source": [
    "### 1.A create atomic of item features\n",
    "we will create item features for feeding with iteration features into GRU4REC model "
   ]
  },
  {
   "cell_type": "code",
   "execution_count": 26,
   "id": "c4a9f36b",
   "metadata": {
    "execution": {
     "iopub.execute_input": "2022-03-07T00:41:31.437652Z",
     "iopub.status.busy": "2022-03-07T00:41:31.436892Z",
     "iopub.status.idle": "2022-03-07T00:41:32.611696Z",
     "shell.execute_reply": "2022-03-07T00:41:32.611266Z",
     "shell.execute_reply.started": "2022-03-06T03:40:09.463373Z"
    },
    "papermill": {
     "duration": 1.233975,
     "end_time": "2022-03-07T00:41:32.611821",
     "exception": false,
     "start_time": "2022-03-07T00:41:31.377846",
     "status": "completed"
    },
    "tags": []
   },
   "outputs": [
    {
     "data": {
      "text/html": [
       "<div>\n",
       "<style scoped>\n",
       "    .dataframe tbody tr th:only-of-type {\n",
       "        vertical-align: middle;\n",
       "    }\n",
       "\n",
       "    .dataframe tbody tr th {\n",
       "        vertical-align: top;\n",
       "    }\n",
       "\n",
       "    .dataframe thead th {\n",
       "        text-align: right;\n",
       "    }\n",
       "</style>\n",
       "<table border=\"1\" class=\"dataframe\">\n",
       "  <thead>\n",
       "    <tr style=\"text-align: right;\">\n",
       "      <th></th>\n",
       "      <th>article_id</th>\n",
       "      <th>product_code</th>\n",
       "      <th>prod_name</th>\n",
       "      <th>product_type_no</th>\n",
       "      <th>product_type_name</th>\n",
       "      <th>product_group_name</th>\n",
       "      <th>graphical_appearance_no</th>\n",
       "      <th>graphical_appearance_name</th>\n",
       "      <th>colour_group_code</th>\n",
       "      <th>colour_group_name</th>\n",
       "      <th>...</th>\n",
       "      <th>department_name</th>\n",
       "      <th>index_code</th>\n",
       "      <th>index_name</th>\n",
       "      <th>index_group_no</th>\n",
       "      <th>index_group_name</th>\n",
       "      <th>section_no</th>\n",
       "      <th>section_name</th>\n",
       "      <th>garment_group_no</th>\n",
       "      <th>garment_group_name</th>\n",
       "      <th>detail_desc</th>\n",
       "    </tr>\n",
       "  </thead>\n",
       "  <tbody>\n",
       "    <tr>\n",
       "      <th>0</th>\n",
       "      <td>0108775015</td>\n",
       "      <td>108775</td>\n",
       "      <td>Strap top</td>\n",
       "      <td>253</td>\n",
       "      <td>Vest top</td>\n",
       "      <td>Garment Upper body</td>\n",
       "      <td>1010016</td>\n",
       "      <td>Solid</td>\n",
       "      <td>9</td>\n",
       "      <td>Black</td>\n",
       "      <td>...</td>\n",
       "      <td>Jersey Basic</td>\n",
       "      <td>A</td>\n",
       "      <td>Ladieswear</td>\n",
       "      <td>1</td>\n",
       "      <td>Ladieswear</td>\n",
       "      <td>16</td>\n",
       "      <td>Womens Everyday Basics</td>\n",
       "      <td>1002</td>\n",
       "      <td>Jersey Basic</td>\n",
       "      <td>Jersey top with narrow shoulder straps.</td>\n",
       "    </tr>\n",
       "    <tr>\n",
       "      <th>1</th>\n",
       "      <td>0108775044</td>\n",
       "      <td>108775</td>\n",
       "      <td>Strap top</td>\n",
       "      <td>253</td>\n",
       "      <td>Vest top</td>\n",
       "      <td>Garment Upper body</td>\n",
       "      <td>1010016</td>\n",
       "      <td>Solid</td>\n",
       "      <td>10</td>\n",
       "      <td>White</td>\n",
       "      <td>...</td>\n",
       "      <td>Jersey Basic</td>\n",
       "      <td>A</td>\n",
       "      <td>Ladieswear</td>\n",
       "      <td>1</td>\n",
       "      <td>Ladieswear</td>\n",
       "      <td>16</td>\n",
       "      <td>Womens Everyday Basics</td>\n",
       "      <td>1002</td>\n",
       "      <td>Jersey Basic</td>\n",
       "      <td>Jersey top with narrow shoulder straps.</td>\n",
       "    </tr>\n",
       "    <tr>\n",
       "      <th>2</th>\n",
       "      <td>0108775051</td>\n",
       "      <td>108775</td>\n",
       "      <td>Strap top (1)</td>\n",
       "      <td>253</td>\n",
       "      <td>Vest top</td>\n",
       "      <td>Garment Upper body</td>\n",
       "      <td>1010017</td>\n",
       "      <td>Stripe</td>\n",
       "      <td>11</td>\n",
       "      <td>Off White</td>\n",
       "      <td>...</td>\n",
       "      <td>Jersey Basic</td>\n",
       "      <td>A</td>\n",
       "      <td>Ladieswear</td>\n",
       "      <td>1</td>\n",
       "      <td>Ladieswear</td>\n",
       "      <td>16</td>\n",
       "      <td>Womens Everyday Basics</td>\n",
       "      <td>1002</td>\n",
       "      <td>Jersey Basic</td>\n",
       "      <td>Jersey top with narrow shoulder straps.</td>\n",
       "    </tr>\n",
       "    <tr>\n",
       "      <th>3</th>\n",
       "      <td>0110065001</td>\n",
       "      <td>110065</td>\n",
       "      <td>OP T-shirt (Idro)</td>\n",
       "      <td>306</td>\n",
       "      <td>Bra</td>\n",
       "      <td>Underwear</td>\n",
       "      <td>1010016</td>\n",
       "      <td>Solid</td>\n",
       "      <td>9</td>\n",
       "      <td>Black</td>\n",
       "      <td>...</td>\n",
       "      <td>Clean Lingerie</td>\n",
       "      <td>B</td>\n",
       "      <td>Lingeries/Tights</td>\n",
       "      <td>1</td>\n",
       "      <td>Ladieswear</td>\n",
       "      <td>61</td>\n",
       "      <td>Womens Lingerie</td>\n",
       "      <td>1017</td>\n",
       "      <td>Under-, Nightwear</td>\n",
       "      <td>Microfibre T-shirt bra with underwired, moulde...</td>\n",
       "    </tr>\n",
       "    <tr>\n",
       "      <th>4</th>\n",
       "      <td>0110065002</td>\n",
       "      <td>110065</td>\n",
       "      <td>OP T-shirt (Idro)</td>\n",
       "      <td>306</td>\n",
       "      <td>Bra</td>\n",
       "      <td>Underwear</td>\n",
       "      <td>1010016</td>\n",
       "      <td>Solid</td>\n",
       "      <td>10</td>\n",
       "      <td>White</td>\n",
       "      <td>...</td>\n",
       "      <td>Clean Lingerie</td>\n",
       "      <td>B</td>\n",
       "      <td>Lingeries/Tights</td>\n",
       "      <td>1</td>\n",
       "      <td>Ladieswear</td>\n",
       "      <td>61</td>\n",
       "      <td>Womens Lingerie</td>\n",
       "      <td>1017</td>\n",
       "      <td>Under-, Nightwear</td>\n",
       "      <td>Microfibre T-shirt bra with underwired, moulde...</td>\n",
       "    </tr>\n",
       "  </tbody>\n",
       "</table>\n",
       "<p>5 rows × 25 columns</p>\n",
       "</div>"
      ],
      "text/plain": [
       "   article_id  product_code          prod_name  product_type_no  \\\n",
       "0  0108775015        108775          Strap top              253   \n",
       "1  0108775044        108775          Strap top              253   \n",
       "2  0108775051        108775      Strap top (1)              253   \n",
       "3  0110065001        110065  OP T-shirt (Idro)              306   \n",
       "4  0110065002        110065  OP T-shirt (Idro)              306   \n",
       "\n",
       "  product_type_name  product_group_name  graphical_appearance_no  \\\n",
       "0          Vest top  Garment Upper body                  1010016   \n",
       "1          Vest top  Garment Upper body                  1010016   \n",
       "2          Vest top  Garment Upper body                  1010017   \n",
       "3               Bra           Underwear                  1010016   \n",
       "4               Bra           Underwear                  1010016   \n",
       "\n",
       "  graphical_appearance_name  colour_group_code colour_group_name  ...  \\\n",
       "0                     Solid                  9             Black  ...   \n",
       "1                     Solid                 10             White  ...   \n",
       "2                    Stripe                 11         Off White  ...   \n",
       "3                     Solid                  9             Black  ...   \n",
       "4                     Solid                 10             White  ...   \n",
       "\n",
       "   department_name index_code        index_name index_group_no  \\\n",
       "0     Jersey Basic          A        Ladieswear              1   \n",
       "1     Jersey Basic          A        Ladieswear              1   \n",
       "2     Jersey Basic          A        Ladieswear              1   \n",
       "3   Clean Lingerie          B  Lingeries/Tights              1   \n",
       "4   Clean Lingerie          B  Lingeries/Tights              1   \n",
       "\n",
       "   index_group_name section_no            section_name garment_group_no  \\\n",
       "0        Ladieswear         16  Womens Everyday Basics             1002   \n",
       "1        Ladieswear         16  Womens Everyday Basics             1002   \n",
       "2        Ladieswear         16  Womens Everyday Basics             1002   \n",
       "3        Ladieswear         61         Womens Lingerie             1017   \n",
       "4        Ladieswear         61         Womens Lingerie             1017   \n",
       "\n",
       "   garment_group_name                                        detail_desc  \n",
       "0        Jersey Basic            Jersey top with narrow shoulder straps.  \n",
       "1        Jersey Basic            Jersey top with narrow shoulder straps.  \n",
       "2        Jersey Basic            Jersey top with narrow shoulder straps.  \n",
       "3   Under-, Nightwear  Microfibre T-shirt bra with underwired, moulde...  \n",
       "4   Under-, Nightwear  Microfibre T-shirt bra with underwired, moulde...  \n",
       "\n",
       "[5 rows x 25 columns]"
      ]
     },
     "execution_count": 26,
     "metadata": {},
     "output_type": "execute_result"
    }
   ],
   "source": [
    "import pandas as pd\n",
    "df = pd.read_csv(r\"articles.csv\", dtype={'article_id': 'str'})\n",
    "df.head()"
   ]
  },
  {
   "cell_type": "code",
   "execution_count": 27,
   "id": "fc3d7699",
   "metadata": {
    "execution": {
     "iopub.execute_input": "2022-03-07T00:41:32.735235Z",
     "iopub.status.busy": "2022-03-07T00:41:32.734322Z",
     "iopub.status.idle": "2022-03-07T00:41:32.883558Z",
     "shell.execute_reply": "2022-03-07T00:41:32.882881Z",
     "shell.execute_reply.started": "2022-03-06T03:42:00.524527Z"
    },
    "papermill": {
     "duration": 0.217658,
     "end_time": "2022-03-07T00:41:32.883742",
     "exception": false,
     "start_time": "2022-03-07T00:41:32.666084",
     "status": "completed"
    },
    "tags": []
   },
   "outputs": [
    {
     "name": "stdout",
     "output_type": "stream",
     "text": [
      "article_id\n",
      "105542\n",
      "product_code\n",
      "47224\n",
      "prod_name\n",
      "45875\n",
      "product_type_no\n",
      "132\n",
      "product_type_name\n",
      "131\n",
      "product_group_name\n",
      "19\n",
      "graphical_appearance_no\n",
      "30\n",
      "graphical_appearance_name\n",
      "30\n",
      "colour_group_code\n",
      "50\n",
      "colour_group_name\n",
      "50\n",
      "perceived_colour_value_id\n",
      "8\n",
      "perceived_colour_value_name\n",
      "8\n",
      "perceived_colour_master_id\n",
      "20\n",
      "perceived_colour_master_name\n",
      "20\n",
      "department_no\n",
      "299\n",
      "department_name\n",
      "250\n",
      "index_code\n",
      "10\n",
      "index_name\n",
      "10\n",
      "index_group_no\n",
      "5\n",
      "index_group_name\n",
      "5\n",
      "section_no\n",
      "57\n",
      "section_name\n",
      "56\n",
      "garment_group_no\n",
      "21\n",
      "garment_group_name\n",
      "21\n",
      "detail_desc\n",
      "43405\n"
     ]
    }
   ],
   "source": [
    "for col in df.columns:\n",
    "    print(col)\n",
    "    print(len(pd.unique(df[col])))"
   ]
  },
  {
   "cell_type": "markdown",
   "id": "6fadda5b",
   "metadata": {
    "papermill": {
     "duration": 0.053835,
     "end_time": "2022-03-07T00:41:32.993289",
     "exception": false,
     "start_time": "2022-03-07T00:41:32.939454",
     "status": "completed"
    },
    "tags": []
   },
   "source": [
    "#### we see so many couple of columns are [category_text, encoded_value]. So in order to avoid [Multicollinearity](https://link.springer.com/chapter/10.1007/978-0-585-25657-3_37), we will keep only one columns in each couple\n",
    "We can see below couple of columns in item features, and we will keep one of them:\n",
    "\n",
    "* use product_type_no - skip product_type_name\n",
    "* use graphical_appearance_no - skip graphical_appearance_name\n",
    "* use colour_group_code - skip colour_group_name\n",
    "* use perceived_colour_value_id - skip perceived_colour_value_name\n",
    "* use perceived_colour_master_id - skip perceived_colour_master_name\n",
    "* use index_code - skip index_name\n",
    "* use index_group_no - skip index_group_name\n",
    "* use section_no - skip section_name\n",
    "* use garment_group_no - skip garment_group_name\n",
    "* use product_code, skip product_name\n",
    "* use department_no, skip department_name"
   ]
  },
  {
   "cell_type": "code",
   "execution_count": 28,
   "id": "ca740d60",
   "metadata": {
    "execution": {
     "iopub.execute_input": "2022-03-07T00:41:33.112659Z",
     "iopub.status.busy": "2022-03-07T00:41:33.111840Z",
     "iopub.status.idle": "2022-03-07T00:41:33.129429Z",
     "shell.execute_reply": "2022-03-07T00:41:33.130099Z",
     "shell.execute_reply.started": "2022-03-06T03:48:20.160091Z"
    },
    "papermill": {
     "duration": 0.080835,
     "end_time": "2022-03-07T00:41:33.130251",
     "exception": false,
     "start_time": "2022-03-07T00:41:33.049416",
     "status": "completed"
    },
    "tags": []
   },
   "outputs": [
    {
     "data": {
      "text/html": [
       "<div>\n",
       "<style scoped>\n",
       "    .dataframe tbody tr th:only-of-type {\n",
       "        vertical-align: middle;\n",
       "    }\n",
       "\n",
       "    .dataframe tbody tr th {\n",
       "        vertical-align: top;\n",
       "    }\n",
       "\n",
       "    .dataframe thead th {\n",
       "        text-align: right;\n",
       "    }\n",
       "</style>\n",
       "<table border=\"1\" class=\"dataframe\">\n",
       "  <thead>\n",
       "    <tr style=\"text-align: right;\">\n",
       "      <th></th>\n",
       "      <th>article_id</th>\n",
       "      <th>product_code</th>\n",
       "      <th>product_type_no</th>\n",
       "      <th>product_group_name</th>\n",
       "      <th>graphical_appearance_no</th>\n",
       "      <th>colour_group_code</th>\n",
       "      <th>perceived_colour_value_id</th>\n",
       "      <th>perceived_colour_master_id</th>\n",
       "      <th>department_no</th>\n",
       "      <th>index_code</th>\n",
       "      <th>index_group_no</th>\n",
       "      <th>section_no</th>\n",
       "      <th>garment_group_no</th>\n",
       "    </tr>\n",
       "  </thead>\n",
       "  <tbody>\n",
       "    <tr>\n",
       "      <th>0</th>\n",
       "      <td>0108775015</td>\n",
       "      <td>108775</td>\n",
       "      <td>253</td>\n",
       "      <td>Garment Upper body</td>\n",
       "      <td>1010016</td>\n",
       "      <td>9</td>\n",
       "      <td>4</td>\n",
       "      <td>5</td>\n",
       "      <td>1676</td>\n",
       "      <td>A</td>\n",
       "      <td>1</td>\n",
       "      <td>16</td>\n",
       "      <td>1002</td>\n",
       "    </tr>\n",
       "    <tr>\n",
       "      <th>1</th>\n",
       "      <td>0108775044</td>\n",
       "      <td>108775</td>\n",
       "      <td>253</td>\n",
       "      <td>Garment Upper body</td>\n",
       "      <td>1010016</td>\n",
       "      <td>10</td>\n",
       "      <td>3</td>\n",
       "      <td>9</td>\n",
       "      <td>1676</td>\n",
       "      <td>A</td>\n",
       "      <td>1</td>\n",
       "      <td>16</td>\n",
       "      <td>1002</td>\n",
       "    </tr>\n",
       "    <tr>\n",
       "      <th>2</th>\n",
       "      <td>0108775051</td>\n",
       "      <td>108775</td>\n",
       "      <td>253</td>\n",
       "      <td>Garment Upper body</td>\n",
       "      <td>1010017</td>\n",
       "      <td>11</td>\n",
       "      <td>1</td>\n",
       "      <td>9</td>\n",
       "      <td>1676</td>\n",
       "      <td>A</td>\n",
       "      <td>1</td>\n",
       "      <td>16</td>\n",
       "      <td>1002</td>\n",
       "    </tr>\n",
       "    <tr>\n",
       "      <th>3</th>\n",
       "      <td>0110065001</td>\n",
       "      <td>110065</td>\n",
       "      <td>306</td>\n",
       "      <td>Underwear</td>\n",
       "      <td>1010016</td>\n",
       "      <td>9</td>\n",
       "      <td>4</td>\n",
       "      <td>5</td>\n",
       "      <td>1339</td>\n",
       "      <td>B</td>\n",
       "      <td>1</td>\n",
       "      <td>61</td>\n",
       "      <td>1017</td>\n",
       "    </tr>\n",
       "    <tr>\n",
       "      <th>4</th>\n",
       "      <td>0110065002</td>\n",
       "      <td>110065</td>\n",
       "      <td>306</td>\n",
       "      <td>Underwear</td>\n",
       "      <td>1010016</td>\n",
       "      <td>10</td>\n",
       "      <td>3</td>\n",
       "      <td>9</td>\n",
       "      <td>1339</td>\n",
       "      <td>B</td>\n",
       "      <td>1</td>\n",
       "      <td>61</td>\n",
       "      <td>1017</td>\n",
       "    </tr>\n",
       "  </tbody>\n",
       "</table>\n",
       "</div>"
      ],
      "text/plain": [
       "   article_id  product_code  product_type_no  product_group_name  \\\n",
       "0  0108775015        108775              253  Garment Upper body   \n",
       "1  0108775044        108775              253  Garment Upper body   \n",
       "2  0108775051        108775              253  Garment Upper body   \n",
       "3  0110065001        110065              306           Underwear   \n",
       "4  0110065002        110065              306           Underwear   \n",
       "\n",
       "   graphical_appearance_no  colour_group_code  perceived_colour_value_id  \\\n",
       "0                  1010016                  9                          4   \n",
       "1                  1010016                 10                          3   \n",
       "2                  1010017                 11                          1   \n",
       "3                  1010016                  9                          4   \n",
       "4                  1010016                 10                          3   \n",
       "\n",
       "   perceived_colour_master_id  department_no index_code  index_group_no  \\\n",
       "0                           5           1676          A               1   \n",
       "1                           9           1676          A               1   \n",
       "2                           9           1676          A               1   \n",
       "3                           5           1339          B               1   \n",
       "4                           9           1339          B               1   \n",
       "\n",
       "   section_no  garment_group_no  \n",
       "0          16              1002  \n",
       "1          16              1002  \n",
       "2          16              1002  \n",
       "3          61              1017  \n",
       "4          61              1017  "
      ]
     },
     "execution_count": 28,
     "metadata": {},
     "output_type": "execute_result"
    }
   ],
   "source": [
    "df = df.drop(columns = ['product_type_name', 'graphical_appearance_name', 'colour_group_name', 'perceived_colour_value_name',\n",
    "                        'perceived_colour_master_name', 'index_name', 'index_group_name', 'section_name', \n",
    "                        'garment_group_name', 'prod_name', 'department_name', 'detail_desc'])\n",
    "df.head()"
   ]
  },
  {
   "cell_type": "code",
   "execution_count": 29,
   "id": "c7822bb5",
   "metadata": {
    "execution": {
     "iopub.execute_input": "2022-03-07T00:41:33.249355Z",
     "iopub.status.busy": "2022-03-07T00:41:33.248244Z",
     "iopub.status.idle": "2022-03-07T00:41:33.262629Z",
     "shell.execute_reply": "2022-03-07T00:41:33.263032Z",
     "shell.execute_reply.started": "2022-03-06T03:48:34.353518Z"
    },
    "papermill": {
     "duration": 0.077755,
     "end_time": "2022-03-07T00:41:33.263160",
     "exception": false,
     "start_time": "2022-03-07T00:41:33.185405",
     "status": "completed"
    },
    "tags": []
   },
   "outputs": [
    {
     "data": {
      "text/html": [
       "<div>\n",
       "<style scoped>\n",
       "    .dataframe tbody tr th:only-of-type {\n",
       "        vertical-align: middle;\n",
       "    }\n",
       "\n",
       "    .dataframe tbody tr th {\n",
       "        vertical-align: top;\n",
       "    }\n",
       "\n",
       "    .dataframe thead th {\n",
       "        text-align: right;\n",
       "    }\n",
       "</style>\n",
       "<table border=\"1\" class=\"dataframe\">\n",
       "  <thead>\n",
       "    <tr style=\"text-align: right;\">\n",
       "      <th></th>\n",
       "      <th>item_id:token</th>\n",
       "      <th>product_code:token</th>\n",
       "      <th>product_type_no:float</th>\n",
       "      <th>product_group_name:token_seq</th>\n",
       "      <th>graphical_appearance_no:token</th>\n",
       "      <th>colour_group_code:token</th>\n",
       "      <th>perceived_colour_value_id:token</th>\n",
       "      <th>perceived_colour_master_id:token</th>\n",
       "      <th>department_no:token</th>\n",
       "      <th>index_code:token</th>\n",
       "      <th>index_group_no:token</th>\n",
       "      <th>section_no:token</th>\n",
       "      <th>garment_group_no:token</th>\n",
       "    </tr>\n",
       "  </thead>\n",
       "  <tbody>\n",
       "    <tr>\n",
       "      <th>0</th>\n",
       "      <td>0108775015</td>\n",
       "      <td>108775</td>\n",
       "      <td>253</td>\n",
       "      <td>Garment Upper body</td>\n",
       "      <td>1010016</td>\n",
       "      <td>9</td>\n",
       "      <td>4</td>\n",
       "      <td>5</td>\n",
       "      <td>1676</td>\n",
       "      <td>A</td>\n",
       "      <td>1</td>\n",
       "      <td>16</td>\n",
       "      <td>1002</td>\n",
       "    </tr>\n",
       "    <tr>\n",
       "      <th>1</th>\n",
       "      <td>0108775044</td>\n",
       "      <td>108775</td>\n",
       "      <td>253</td>\n",
       "      <td>Garment Upper body</td>\n",
       "      <td>1010016</td>\n",
       "      <td>10</td>\n",
       "      <td>3</td>\n",
       "      <td>9</td>\n",
       "      <td>1676</td>\n",
       "      <td>A</td>\n",
       "      <td>1</td>\n",
       "      <td>16</td>\n",
       "      <td>1002</td>\n",
       "    </tr>\n",
       "    <tr>\n",
       "      <th>2</th>\n",
       "      <td>0108775051</td>\n",
       "      <td>108775</td>\n",
       "      <td>253</td>\n",
       "      <td>Garment Upper body</td>\n",
       "      <td>1010017</td>\n",
       "      <td>11</td>\n",
       "      <td>1</td>\n",
       "      <td>9</td>\n",
       "      <td>1676</td>\n",
       "      <td>A</td>\n",
       "      <td>1</td>\n",
       "      <td>16</td>\n",
       "      <td>1002</td>\n",
       "    </tr>\n",
       "    <tr>\n",
       "      <th>3</th>\n",
       "      <td>0110065001</td>\n",
       "      <td>110065</td>\n",
       "      <td>306</td>\n",
       "      <td>Underwear</td>\n",
       "      <td>1010016</td>\n",
       "      <td>9</td>\n",
       "      <td>4</td>\n",
       "      <td>5</td>\n",
       "      <td>1339</td>\n",
       "      <td>B</td>\n",
       "      <td>1</td>\n",
       "      <td>61</td>\n",
       "      <td>1017</td>\n",
       "    </tr>\n",
       "    <tr>\n",
       "      <th>4</th>\n",
       "      <td>0110065002</td>\n",
       "      <td>110065</td>\n",
       "      <td>306</td>\n",
       "      <td>Underwear</td>\n",
       "      <td>1010016</td>\n",
       "      <td>10</td>\n",
       "      <td>3</td>\n",
       "      <td>9</td>\n",
       "      <td>1339</td>\n",
       "      <td>B</td>\n",
       "      <td>1</td>\n",
       "      <td>61</td>\n",
       "      <td>1017</td>\n",
       "    </tr>\n",
       "  </tbody>\n",
       "</table>\n",
       "</div>"
      ],
      "text/plain": [
       "  item_id:token  product_code:token  product_type_no:float  \\\n",
       "0    0108775015              108775                    253   \n",
       "1    0108775044              108775                    253   \n",
       "2    0108775051              108775                    253   \n",
       "3    0110065001              110065                    306   \n",
       "4    0110065002              110065                    306   \n",
       "\n",
       "  product_group_name:token_seq  graphical_appearance_no:token  \\\n",
       "0           Garment Upper body                        1010016   \n",
       "1           Garment Upper body                        1010016   \n",
       "2           Garment Upper body                        1010017   \n",
       "3                    Underwear                        1010016   \n",
       "4                    Underwear                        1010016   \n",
       "\n",
       "   colour_group_code:token  perceived_colour_value_id:token  \\\n",
       "0                        9                                4   \n",
       "1                       10                                3   \n",
       "2                       11                                1   \n",
       "3                        9                                4   \n",
       "4                       10                                3   \n",
       "\n",
       "   perceived_colour_master_id:token  department_no:token index_code:token  \\\n",
       "0                                 5                 1676                A   \n",
       "1                                 9                 1676                A   \n",
       "2                                 9                 1676                A   \n",
       "3                                 5                 1339                B   \n",
       "4                                 9                 1339                B   \n",
       "\n",
       "   index_group_no:token  section_no:token  garment_group_no:token  \n",
       "0                     1                16                    1002  \n",
       "1                     1                16                    1002  \n",
       "2                     1                16                    1002  \n",
       "3                     1                61                    1017  \n",
       "4                     1                61                    1017  "
      ]
     },
     "execution_count": 29,
     "metadata": {},
     "output_type": "execute_result"
    }
   ],
   "source": [
    "temp = df.rename(\n",
    "    columns={'article_id': 'item_id:token', 'product_code': 'product_code:token', 'product_type_no': 'product_type_no:float',\n",
    "             'product_group_name': 'product_group_name:token_seq', 'graphical_appearance_no': 'graphical_appearance_no:token', \n",
    "             'colour_group_code': 'colour_group_code:token', 'perceived_colour_value_id': 'perceived_colour_value_id:token', \n",
    "             'perceived_colour_master_id': 'perceived_colour_master_id:token', 'department_no': 'department_no:token', \n",
    "             'index_code': 'index_code:token', 'index_group_no': 'index_group_no:token', 'section_no': 'section_no:token', \n",
    "             'garment_group_no': 'garment_group_no:token'})\n",
    "temp.head()"
   ]
  },
  {
   "cell_type": "code",
   "execution_count": 30,
   "id": "4b74bf3b",
   "metadata": {
    "execution": {
     "iopub.execute_input": "2022-03-07T00:41:33.379154Z",
     "iopub.status.busy": "2022-03-07T00:41:33.378390Z",
     "iopub.status.idle": "2022-03-07T00:41:34.602103Z",
     "shell.execute_reply": "2022-03-07T00:41:34.600999Z",
     "shell.execute_reply.started": "2022-03-06T03:49:27.046911Z"
    },
    "papermill": {
     "duration": 1.283385,
     "end_time": "2022-03-07T00:41:34.602239",
     "exception": false,
     "start_time": "2022-03-07T00:41:33.318854",
     "status": "completed"
    },
    "tags": []
   },
   "outputs": [],
   "source": [
    "#!mkdir /kaggle/working/recbox_data\n",
    "temp.to_csv(r'./recbox_data/recbox_data.item', index=False, sep='\\t')"
   ]
  },
  {
   "cell_type": "markdown",
   "id": "3a377797",
   "metadata": {
    "papermill": {
     "duration": 0.057116,
     "end_time": "2022-03-07T00:41:34.715702",
     "exception": false,
     "start_time": "2022-03-07T00:41:34.658586",
     "status": "completed"
    },
    "tags": []
   },
   "source": [
    "### 1.B create atomic of iteration features\n",
    "we will create iteration features for GRU4REC model "
   ]
  },
  {
   "cell_type": "code",
   "execution_count": 31,
   "id": "684d8220",
   "metadata": {
    "execution": {
     "iopub.execute_input": "2022-03-07T00:41:34.835320Z",
     "iopub.status.busy": "2022-03-07T00:41:34.834258Z",
     "iopub.status.idle": "2022-03-07T00:42:40.348793Z",
     "shell.execute_reply": "2022-03-07T00:42:40.349208Z",
     "shell.execute_reply.started": "2022-03-06T03:51:52.152249Z"
    },
    "papermill": {
     "duration": 65.575724,
     "end_time": "2022-03-07T00:42:40.349353",
     "exception": false,
     "start_time": "2022-03-07T00:41:34.773629",
     "status": "completed"
    },
    "tags": []
   },
   "outputs": [
    {
     "data": {
      "text/html": [
       "<div>\n",
       "<style scoped>\n",
       "    .dataframe tbody tr th:only-of-type {\n",
       "        vertical-align: middle;\n",
       "    }\n",
       "\n",
       "    .dataframe tbody tr th {\n",
       "        vertical-align: top;\n",
       "    }\n",
       "\n",
       "    .dataframe thead th {\n",
       "        text-align: right;\n",
       "    }\n",
       "</style>\n",
       "<table border=\"1\" class=\"dataframe\">\n",
       "  <thead>\n",
       "    <tr style=\"text-align: right;\">\n",
       "      <th></th>\n",
       "      <th>t_dat</th>\n",
       "      <th>customer_id</th>\n",
       "      <th>article_id</th>\n",
       "      <th>price</th>\n",
       "      <th>sales_channel_id</th>\n",
       "    </tr>\n",
       "  </thead>\n",
       "  <tbody>\n",
       "    <tr>\n",
       "      <th>0</th>\n",
       "      <td>2018-09-20</td>\n",
       "      <td>000058a12d5b43e67d225668fa1f8d618c13dc232df0ca...</td>\n",
       "      <td>0663713001</td>\n",
       "      <td>0.050831</td>\n",
       "      <td>2</td>\n",
       "    </tr>\n",
       "    <tr>\n",
       "      <th>1</th>\n",
       "      <td>2018-09-20</td>\n",
       "      <td>000058a12d5b43e67d225668fa1f8d618c13dc232df0ca...</td>\n",
       "      <td>0541518023</td>\n",
       "      <td>0.030492</td>\n",
       "      <td>2</td>\n",
       "    </tr>\n",
       "    <tr>\n",
       "      <th>2</th>\n",
       "      <td>2018-09-20</td>\n",
       "      <td>00007d2de826758b65a93dd24ce629ed66842531df6699...</td>\n",
       "      <td>0505221004</td>\n",
       "      <td>0.015237</td>\n",
       "      <td>2</td>\n",
       "    </tr>\n",
       "    <tr>\n",
       "      <th>3</th>\n",
       "      <td>2018-09-20</td>\n",
       "      <td>00007d2de826758b65a93dd24ce629ed66842531df6699...</td>\n",
       "      <td>0685687003</td>\n",
       "      <td>0.016932</td>\n",
       "      <td>2</td>\n",
       "    </tr>\n",
       "    <tr>\n",
       "      <th>4</th>\n",
       "      <td>2018-09-20</td>\n",
       "      <td>00007d2de826758b65a93dd24ce629ed66842531df6699...</td>\n",
       "      <td>0685687004</td>\n",
       "      <td>0.016932</td>\n",
       "      <td>2</td>\n",
       "    </tr>\n",
       "  </tbody>\n",
       "</table>\n",
       "</div>"
      ],
      "text/plain": [
       "        t_dat                                        customer_id  article_id  \\\n",
       "0  2018-09-20  000058a12d5b43e67d225668fa1f8d618c13dc232df0ca...  0663713001   \n",
       "1  2018-09-20  000058a12d5b43e67d225668fa1f8d618c13dc232df0ca...  0541518023   \n",
       "2  2018-09-20  00007d2de826758b65a93dd24ce629ed66842531df6699...  0505221004   \n",
       "3  2018-09-20  00007d2de826758b65a93dd24ce629ed66842531df6699...  0685687003   \n",
       "4  2018-09-20  00007d2de826758b65a93dd24ce629ed66842531df6699...  0685687004   \n",
       "\n",
       "      price  sales_channel_id  \n",
       "0  0.050831                 2  \n",
       "1  0.030492                 2  \n",
       "2  0.015237                 2  \n",
       "3  0.016932                 2  \n",
       "4  0.016932                 2  "
      ]
     },
     "execution_count": 31,
     "metadata": {},
     "output_type": "execute_result"
    }
   ],
   "source": [
    "df = pd.read_csv(r\"transactions_train.csv\", dtype={'article_id': 'str'})\n",
    "df.head()"
   ]
  },
  {
   "cell_type": "code",
   "execution_count": 32,
   "id": "d7d45bf5",
   "metadata": {
    "execution": {
     "iopub.execute_input": "2022-03-07T00:42:42.107322Z",
     "iopub.status.busy": "2022-03-07T00:42:42.106558Z",
     "iopub.status.idle": "2022-03-07T00:42:46.573265Z",
     "shell.execute_reply": "2022-03-07T00:42:46.573696Z",
     "shell.execute_reply.started": "2022-03-06T03:55:27.956135Z"
    },
    "papermill": {
     "duration": 6.169321,
     "end_time": "2022-03-07T00:42:46.573845",
     "exception": false,
     "start_time": "2022-03-07T00:42:40.404524",
     "status": "completed"
    },
    "tags": []
   },
   "outputs": [
    {
     "data": {
      "text/html": [
       "<div>\n",
       "<style scoped>\n",
       "    .dataframe tbody tr th:only-of-type {\n",
       "        vertical-align: middle;\n",
       "    }\n",
       "\n",
       "    .dataframe tbody tr th {\n",
       "        vertical-align: top;\n",
       "    }\n",
       "\n",
       "    .dataframe thead th {\n",
       "        text-align: right;\n",
       "    }\n",
       "</style>\n",
       "<table border=\"1\" class=\"dataframe\">\n",
       "  <thead>\n",
       "    <tr style=\"text-align: right;\">\n",
       "      <th></th>\n",
       "      <th>t_dat</th>\n",
       "      <th>customer_id</th>\n",
       "      <th>article_id</th>\n",
       "      <th>price</th>\n",
       "      <th>sales_channel_id</th>\n",
       "    </tr>\n",
       "  </thead>\n",
       "  <tbody>\n",
       "    <tr>\n",
       "      <th>0</th>\n",
       "      <td>2018-09-20</td>\n",
       "      <td>000058a12d5b43e67d225668fa1f8d618c13dc232df0ca...</td>\n",
       "      <td>0663713001</td>\n",
       "      <td>0.050831</td>\n",
       "      <td>2</td>\n",
       "    </tr>\n",
       "    <tr>\n",
       "      <th>1</th>\n",
       "      <td>2018-09-20</td>\n",
       "      <td>000058a12d5b43e67d225668fa1f8d618c13dc232df0ca...</td>\n",
       "      <td>0541518023</td>\n",
       "      <td>0.030492</td>\n",
       "      <td>2</td>\n",
       "    </tr>\n",
       "    <tr>\n",
       "      <th>2</th>\n",
       "      <td>2018-09-20</td>\n",
       "      <td>00007d2de826758b65a93dd24ce629ed66842531df6699...</td>\n",
       "      <td>0505221004</td>\n",
       "      <td>0.015237</td>\n",
       "      <td>2</td>\n",
       "    </tr>\n",
       "    <tr>\n",
       "      <th>3</th>\n",
       "      <td>2018-09-20</td>\n",
       "      <td>00007d2de826758b65a93dd24ce629ed66842531df6699...</td>\n",
       "      <td>0685687003</td>\n",
       "      <td>0.016932</td>\n",
       "      <td>2</td>\n",
       "    </tr>\n",
       "    <tr>\n",
       "      <th>4</th>\n",
       "      <td>2018-09-20</td>\n",
       "      <td>00007d2de826758b65a93dd24ce629ed66842531df6699...</td>\n",
       "      <td>0685687004</td>\n",
       "      <td>0.016932</td>\n",
       "      <td>2</td>\n",
       "    </tr>\n",
       "    <tr>\n",
       "      <th>...</th>\n",
       "      <td>...</td>\n",
       "      <td>...</td>\n",
       "      <td>...</td>\n",
       "      <td>...</td>\n",
       "      <td>...</td>\n",
       "    </tr>\n",
       "    <tr>\n",
       "      <th>31788319</th>\n",
       "      <td>2020-09-22</td>\n",
       "      <td>fff2282977442e327b45d8c89afde25617d00124d0f999...</td>\n",
       "      <td>0929511001</td>\n",
       "      <td>0.059305</td>\n",
       "      <td>2</td>\n",
       "    </tr>\n",
       "    <tr>\n",
       "      <th>31788320</th>\n",
       "      <td>2020-09-22</td>\n",
       "      <td>fff2282977442e327b45d8c89afde25617d00124d0f999...</td>\n",
       "      <td>0891322004</td>\n",
       "      <td>0.042356</td>\n",
       "      <td>2</td>\n",
       "    </tr>\n",
       "    <tr>\n",
       "      <th>31788321</th>\n",
       "      <td>2020-09-22</td>\n",
       "      <td>fff380805474b287b05cb2a7507b9a013482f7dd0bce0e...</td>\n",
       "      <td>0918325001</td>\n",
       "      <td>0.043203</td>\n",
       "      <td>1</td>\n",
       "    </tr>\n",
       "    <tr>\n",
       "      <th>31788322</th>\n",
       "      <td>2020-09-22</td>\n",
       "      <td>fff4d3a8b1f3b60af93e78c30a7cb4cf75edaf2590d3e5...</td>\n",
       "      <td>0833459002</td>\n",
       "      <td>0.006763</td>\n",
       "      <td>1</td>\n",
       "    </tr>\n",
       "    <tr>\n",
       "      <th>31788323</th>\n",
       "      <td>2020-09-22</td>\n",
       "      <td>fffef3b6b73545df065b521e19f64bf6fe93bfd450ab20...</td>\n",
       "      <td>0898573003</td>\n",
       "      <td>0.033881</td>\n",
       "      <td>2</td>\n",
       "    </tr>\n",
       "  </tbody>\n",
       "</table>\n",
       "<p>31788324 rows × 5 columns</p>\n",
       "</div>"
      ],
      "text/plain": [
       "              t_dat                                        customer_id  \\\n",
       "0        2018-09-20  000058a12d5b43e67d225668fa1f8d618c13dc232df0ca...   \n",
       "1        2018-09-20  000058a12d5b43e67d225668fa1f8d618c13dc232df0ca...   \n",
       "2        2018-09-20  00007d2de826758b65a93dd24ce629ed66842531df6699...   \n",
       "3        2018-09-20  00007d2de826758b65a93dd24ce629ed66842531df6699...   \n",
       "4        2018-09-20  00007d2de826758b65a93dd24ce629ed66842531df6699...   \n",
       "...             ...                                                ...   \n",
       "31788319 2020-09-22  fff2282977442e327b45d8c89afde25617d00124d0f999...   \n",
       "31788320 2020-09-22  fff2282977442e327b45d8c89afde25617d00124d0f999...   \n",
       "31788321 2020-09-22  fff380805474b287b05cb2a7507b9a013482f7dd0bce0e...   \n",
       "31788322 2020-09-22  fff4d3a8b1f3b60af93e78c30a7cb4cf75edaf2590d3e5...   \n",
       "31788323 2020-09-22  fffef3b6b73545df065b521e19f64bf6fe93bfd450ab20...   \n",
       "\n",
       "          article_id     price  sales_channel_id  \n",
       "0         0663713001  0.050831                 2  \n",
       "1         0541518023  0.030492                 2  \n",
       "2         0505221004  0.015237                 2  \n",
       "3         0685687003  0.016932                 2  \n",
       "4         0685687004  0.016932                 2  \n",
       "...              ...       ...               ...  \n",
       "31788319  0929511001  0.059305                 2  \n",
       "31788320  0891322004  0.042356                 2  \n",
       "31788321  0918325001  0.043203                 1  \n",
       "31788322  0833459002  0.006763                 1  \n",
       "31788323  0898573003  0.033881                 2  \n",
       "\n",
       "[31788324 rows x 5 columns]"
      ]
     },
     "execution_count": 32,
     "metadata": {},
     "output_type": "execute_result"
    }
   ],
   "source": [
    "df['t_dat'] = pd.to_datetime(df['t_dat'], format=\"%Y-%m-%d\")\n",
    "df"
   ]
  },
  {
   "cell_type": "code",
   "execution_count": 33,
   "id": "3ba53f8d",
   "metadata": {
    "execution": {
     "iopub.execute_input": "2022-03-07T00:42:46.691428Z",
     "iopub.status.busy": "2022-03-07T00:42:46.690348Z",
     "iopub.status.idle": "2022-03-07T00:42:47.196577Z",
     "shell.execute_reply": "2022-03-07T00:42:47.197106Z",
     "shell.execute_reply.started": "2022-03-06T03:55:39.811527Z"
    },
    "papermill": {
     "duration": 0.566833,
     "end_time": "2022-03-07T00:42:47.197252",
     "exception": false,
     "start_time": "2022-03-07T00:42:46.630419",
     "status": "completed"
    },
    "tags": []
   },
   "outputs": [
    {
     "data": {
      "text/html": [
       "<div>\n",
       "<style scoped>\n",
       "    .dataframe tbody tr th:only-of-type {\n",
       "        vertical-align: middle;\n",
       "    }\n",
       "\n",
       "    .dataframe tbody tr th {\n",
       "        vertical-align: top;\n",
       "    }\n",
       "\n",
       "    .dataframe thead th {\n",
       "        text-align: right;\n",
       "    }\n",
       "</style>\n",
       "<table border=\"1\" class=\"dataframe\">\n",
       "  <thead>\n",
       "    <tr style=\"text-align: right;\">\n",
       "      <th></th>\n",
       "      <th>t_dat</th>\n",
       "      <th>customer_id</th>\n",
       "      <th>article_id</th>\n",
       "      <th>price</th>\n",
       "      <th>sales_channel_id</th>\n",
       "      <th>timestamp</th>\n",
       "    </tr>\n",
       "  </thead>\n",
       "  <tbody>\n",
       "    <tr>\n",
       "      <th>0</th>\n",
       "      <td>2018-09-20</td>\n",
       "      <td>000058a12d5b43e67d225668fa1f8d618c13dc232df0ca...</td>\n",
       "      <td>0663713001</td>\n",
       "      <td>0.050831</td>\n",
       "      <td>2</td>\n",
       "      <td>1537401600</td>\n",
       "    </tr>\n",
       "    <tr>\n",
       "      <th>1</th>\n",
       "      <td>2018-09-20</td>\n",
       "      <td>000058a12d5b43e67d225668fa1f8d618c13dc232df0ca...</td>\n",
       "      <td>0541518023</td>\n",
       "      <td>0.030492</td>\n",
       "      <td>2</td>\n",
       "      <td>1537401600</td>\n",
       "    </tr>\n",
       "    <tr>\n",
       "      <th>2</th>\n",
       "      <td>2018-09-20</td>\n",
       "      <td>00007d2de826758b65a93dd24ce629ed66842531df6699...</td>\n",
       "      <td>0505221004</td>\n",
       "      <td>0.015237</td>\n",
       "      <td>2</td>\n",
       "      <td>1537401600</td>\n",
       "    </tr>\n",
       "    <tr>\n",
       "      <th>3</th>\n",
       "      <td>2018-09-20</td>\n",
       "      <td>00007d2de826758b65a93dd24ce629ed66842531df6699...</td>\n",
       "      <td>0685687003</td>\n",
       "      <td>0.016932</td>\n",
       "      <td>2</td>\n",
       "      <td>1537401600</td>\n",
       "    </tr>\n",
       "    <tr>\n",
       "      <th>4</th>\n",
       "      <td>2018-09-20</td>\n",
       "      <td>00007d2de826758b65a93dd24ce629ed66842531df6699...</td>\n",
       "      <td>0685687004</td>\n",
       "      <td>0.016932</td>\n",
       "      <td>2</td>\n",
       "      <td>1537401600</td>\n",
       "    </tr>\n",
       "  </tbody>\n",
       "</table>\n",
       "</div>"
      ],
      "text/plain": [
       "       t_dat                                        customer_id  article_id  \\\n",
       "0 2018-09-20  000058a12d5b43e67d225668fa1f8d618c13dc232df0ca...  0663713001   \n",
       "1 2018-09-20  000058a12d5b43e67d225668fa1f8d618c13dc232df0ca...  0541518023   \n",
       "2 2018-09-20  00007d2de826758b65a93dd24ce629ed66842531df6699...  0505221004   \n",
       "3 2018-09-20  00007d2de826758b65a93dd24ce629ed66842531df6699...  0685687003   \n",
       "4 2018-09-20  00007d2de826758b65a93dd24ce629ed66842531df6699...  0685687004   \n",
       "\n",
       "      price  sales_channel_id   timestamp  \n",
       "0  0.050831                 2  1537401600  \n",
       "1  0.030492                 2  1537401600  \n",
       "2  0.015237                 2  1537401600  \n",
       "3  0.016932                 2  1537401600  \n",
       "4  0.016932                 2  1537401600  "
      ]
     },
     "execution_count": 33,
     "metadata": {},
     "output_type": "execute_result"
    }
   ],
   "source": [
    "import numpy as np\n",
    "df['timestamp'] = df.t_dat.values.astype(np.int64) // 10 ** 9\n",
    "df.head()"
   ]
  },
  {
   "cell_type": "markdown",
   "id": "f1798eb7",
   "metadata": {
    "papermill": {
     "duration": 0.05763,
     "end_time": "2022-03-07T00:42:47.311768",
     "exception": false,
     "start_time": "2022-03-07T00:42:47.254138",
     "status": "completed"
    },
    "tags": []
   },
   "source": [
    "**We fill with data in only 2020(timestamp > > 1585620000) and create inter file**\n",
    "For anyone need instruction about inter file, please check below links:\n",
    "* https://recbole.io/docs/user_guide/data_intro.html\n",
    "* https://recbole.io/docs/user_guide/data/atomic_files.html\n",
    "\n",
    "if you want a full of iterations without limiting timestamp, please check here:\n",
    "* "
   ]
  },
  {
   "cell_type": "code",
   "execution_count": 34,
   "id": "841ac790",
   "metadata": {
    "execution": {
     "iopub.execute_input": "2022-03-07T00:42:47.439266Z",
     "iopub.status.busy": "2022-03-07T00:42:47.438384Z",
     "iopub.status.idle": "2022-03-07T00:42:48.902428Z",
     "shell.execute_reply": "2022-03-07T00:42:48.902991Z",
     "shell.execute_reply.started": "2022-03-06T03:56:41.111755Z"
    },
    "papermill": {
     "duration": 1.535029,
     "end_time": "2022-03-07T00:42:48.903141",
     "exception": false,
     "start_time": "2022-03-07T00:42:47.368112",
     "status": "completed"
    },
    "tags": []
   },
   "outputs": [
    {
     "data": {
      "text/html": [
       "<div>\n",
       "<style scoped>\n",
       "    .dataframe tbody tr th:only-of-type {\n",
       "        vertical-align: middle;\n",
       "    }\n",
       "\n",
       "    .dataframe tbody tr th {\n",
       "        vertical-align: top;\n",
       "    }\n",
       "\n",
       "    .dataframe thead th {\n",
       "        text-align: right;\n",
       "    }\n",
       "</style>\n",
       "<table border=\"1\" class=\"dataframe\">\n",
       "  <thead>\n",
       "    <tr style=\"text-align: right;\">\n",
       "      <th></th>\n",
       "      <th>user_id:token</th>\n",
       "      <th>item_id:token</th>\n",
       "      <th>timestamp:float</th>\n",
       "    </tr>\n",
       "  </thead>\n",
       "  <tbody>\n",
       "    <tr>\n",
       "      <th>21884546</th>\n",
       "      <td>00023e3dd8618bc63ccad995a5ac62e21177338d642d66...</td>\n",
       "      <td>0843200001</td>\n",
       "      <td>1580515200</td>\n",
       "    </tr>\n",
       "    <tr>\n",
       "      <th>21884547</th>\n",
       "      <td>00023e3dd8618bc63ccad995a5ac62e21177338d642d66...</td>\n",
       "      <td>0830487001</td>\n",
       "      <td>1580515200</td>\n",
       "    </tr>\n",
       "    <tr>\n",
       "      <th>21884548</th>\n",
       "      <td>0006d3ff0caf0cb4d4e0615ee5cb7d268622364d483335...</td>\n",
       "      <td>0811777002</td>\n",
       "      <td>1580515200</td>\n",
       "    </tr>\n",
       "    <tr>\n",
       "      <th>21884549</th>\n",
       "      <td>0006d3ff0caf0cb4d4e0615ee5cb7d268622364d483335...</td>\n",
       "      <td>0689047004</td>\n",
       "      <td>1580515200</td>\n",
       "    </tr>\n",
       "    <tr>\n",
       "      <th>21884550</th>\n",
       "      <td>0006d3ff0caf0cb4d4e0615ee5cb7d268622364d483335...</td>\n",
       "      <td>0636505001</td>\n",
       "      <td>1580515200</td>\n",
       "    </tr>\n",
       "    <tr>\n",
       "      <th>...</th>\n",
       "      <td>...</td>\n",
       "      <td>...</td>\n",
       "      <td>...</td>\n",
       "    </tr>\n",
       "    <tr>\n",
       "      <th>31788319</th>\n",
       "      <td>fff2282977442e327b45d8c89afde25617d00124d0f999...</td>\n",
       "      <td>0929511001</td>\n",
       "      <td>1600732800</td>\n",
       "    </tr>\n",
       "    <tr>\n",
       "      <th>31788320</th>\n",
       "      <td>fff2282977442e327b45d8c89afde25617d00124d0f999...</td>\n",
       "      <td>0891322004</td>\n",
       "      <td>1600732800</td>\n",
       "    </tr>\n",
       "    <tr>\n",
       "      <th>31788321</th>\n",
       "      <td>fff380805474b287b05cb2a7507b9a013482f7dd0bce0e...</td>\n",
       "      <td>0918325001</td>\n",
       "      <td>1600732800</td>\n",
       "    </tr>\n",
       "    <tr>\n",
       "      <th>31788322</th>\n",
       "      <td>fff4d3a8b1f3b60af93e78c30a7cb4cf75edaf2590d3e5...</td>\n",
       "      <td>0833459002</td>\n",
       "      <td>1600732800</td>\n",
       "    </tr>\n",
       "    <tr>\n",
       "      <th>31788323</th>\n",
       "      <td>fffef3b6b73545df065b521e19f64bf6fe93bfd450ab20...</td>\n",
       "      <td>0898573003</td>\n",
       "      <td>1600732800</td>\n",
       "    </tr>\n",
       "  </tbody>\n",
       "</table>\n",
       "<p>9903778 rows × 3 columns</p>\n",
       "</div>"
      ],
      "text/plain": [
       "                                              user_id:token item_id:token  \\\n",
       "21884546  00023e3dd8618bc63ccad995a5ac62e21177338d642d66...    0843200001   \n",
       "21884547  00023e3dd8618bc63ccad995a5ac62e21177338d642d66...    0830487001   \n",
       "21884548  0006d3ff0caf0cb4d4e0615ee5cb7d268622364d483335...    0811777002   \n",
       "21884549  0006d3ff0caf0cb4d4e0615ee5cb7d268622364d483335...    0689047004   \n",
       "21884550  0006d3ff0caf0cb4d4e0615ee5cb7d268622364d483335...    0636505001   \n",
       "...                                                     ...           ...   \n",
       "31788319  fff2282977442e327b45d8c89afde25617d00124d0f999...    0929511001   \n",
       "31788320  fff2282977442e327b45d8c89afde25617d00124d0f999...    0891322004   \n",
       "31788321  fff380805474b287b05cb2a7507b9a013482f7dd0bce0e...    0918325001   \n",
       "31788322  fff4d3a8b1f3b60af93e78c30a7cb4cf75edaf2590d3e5...    0833459002   \n",
       "31788323  fffef3b6b73545df065b521e19f64bf6fe93bfd450ab20...    0898573003   \n",
       "\n",
       "          timestamp:float  \n",
       "21884546       1580515200  \n",
       "21884547       1580515200  \n",
       "21884548       1580515200  \n",
       "21884549       1580515200  \n",
       "21884550       1580515200  \n",
       "...                   ...  \n",
       "31788319       1600732800  \n",
       "31788320       1600732800  \n",
       "31788321       1600732800  \n",
       "31788322       1600732800  \n",
       "31788323       1600732800  \n",
       "\n",
       "[9903778 rows x 3 columns]"
      ]
     },
     "execution_count": 34,
     "metadata": {},
     "output_type": "execute_result"
    }
   ],
   "source": [
    "temp = df[df['timestamp'] > 1580504400][['customer_id', 'article_id', 'timestamp']].rename(\n",
    "    columns={'customer_id': 'user_id:token', 'article_id': 'item_id:token', 'timestamp': 'timestamp:float'})\n",
    "temp"
   ]
  },
  {
   "cell_type": "markdown",
   "id": "2e8d9987",
   "metadata": {
    "papermill": {
     "duration": 0.057288,
     "end_time": "2022-03-07T00:42:49.017977",
     "exception": false,
     "start_time": "2022-03-07T00:42:48.960689",
     "status": "completed"
    },
    "tags": []
   },
   "source": [
    "We save atomic file in dataset format for using with recbole"
   ]
  },
  {
   "cell_type": "code",
   "execution_count": 35,
   "id": "9fb22589",
   "metadata": {
    "execution": {
     "iopub.execute_input": "2022-03-07T00:42:49.144009Z",
     "iopub.status.busy": "2022-03-07T00:42:49.136456Z",
     "iopub.status.idle": "2022-03-07T00:43:24.720355Z",
     "shell.execute_reply": "2022-03-07T00:43:24.719819Z",
     "shell.execute_reply.started": "2022-03-06T03:56:45.768203Z"
    },
    "papermill": {
     "duration": 35.645998,
     "end_time": "2022-03-07T00:43:24.720544",
     "exception": false,
     "start_time": "2022-03-07T00:42:49.074546",
     "status": "completed"
    },
    "tags": []
   },
   "outputs": [],
   "source": [
    "temp.to_csv('./recbox_data/recbox_data.inter', index=False, sep='\\t')"
   ]
  },
  {
   "cell_type": "markdown",
   "id": "aa6a0309",
   "metadata": {
    "papermill": {
     "duration": 0.056929,
     "end_time": "2022-03-07T00:43:24.835023",
     "exception": false,
     "start_time": "2022-03-07T00:43:24.778094",
     "status": "completed"
    },
    "tags": []
   },
   "source": [
    "# 2. We create defautl recomendation for user who can not be predicted by sequential model.\n",
    "I use this approach in notebook: https://www.kaggle.com/hervind/h-m-faster-trending-products-weekly You can check it for more detail information. I will juse copy only code here"
   ]
  },
  {
   "cell_type": "code",
   "execution_count": 36,
   "id": "e2901197",
   "metadata": {
    "execution": {
     "iopub.execute_input": "2022-03-07T00:43:24.953164Z",
     "iopub.status.busy": "2022-03-07T00:43:24.952560Z",
     "iopub.status.idle": "2022-03-07T00:43:28.120142Z",
     "shell.execute_reply": "2022-03-07T00:43:28.119600Z",
     "shell.execute_reply.started": "2022-03-06T03:58:05.428827Z"
    },
    "papermill": {
     "duration": 3.22869,
     "end_time": "2022-03-07T00:43:28.120287",
     "exception": false,
     "start_time": "2022-03-07T00:43:24.891597",
     "status": "completed"
    },
    "tags": []
   },
   "outputs": [],
   "source": [
    "import numpy as np\n",
    "import pandas as pd \n",
    "from datetime import datetime, timedelta\n",
    "import gc"
   ]
  },
  {
   "cell_type": "code",
   "execution_count": 37,
   "id": "444ddf83",
   "metadata": {
    "execution": {
     "iopub.execute_input": "2022-03-07T00:43:28.947391Z",
     "iopub.status.busy": "2022-03-07T00:43:28.946842Z",
     "iopub.status.idle": "2022-03-07T00:43:33.521393Z",
     "shell.execute_reply": "2022-03-07T00:43:33.520463Z",
     "shell.execute_reply.started": "2022-03-06T03:58:14.866762Z"
    },
    "papermill": {
     "duration": 5.342358,
     "end_time": "2022-03-07T00:43:33.521543",
     "exception": false,
     "start_time": "2022-03-07T00:43:28.179185",
     "status": "completed"
    },
    "tags": []
   },
   "outputs": [],
   "source": [
    "N = 12\n",
    "df  = pd.read_csv('transactions_train.csv',\n",
    "                            usecols= ['t_dat', 'customer_id', 'article_id'], \n",
    "                            dtype={'article_id': 'int32', 't_dat': 'string', 'customer_id': 'string'})"
   ]
  },
  {
   "cell_type": "code",
   "execution_count": 38,
   "id": "fcb4898a",
   "metadata": {},
   "outputs": [
    {
     "data": {
      "text/plain": [
       "0    000058a12d5b43e67d225668fa1f8d618c13dc232df0ca...\n",
       "1    000058a12d5b43e67d225668fa1f8d618c13dc232df0ca...\n",
       "2    00007d2de826758b65a93dd24ce629ed66842531df6699...\n",
       "3    00007d2de826758b65a93dd24ce629ed66842531df6699...\n",
       "4    00007d2de826758b65a93dd24ce629ed66842531df6699...\n",
       "Name: customer_id, dtype: string"
      ]
     },
     "execution_count": 38,
     "metadata": {},
     "output_type": "execute_result"
    }
   ],
   "source": [
    "df['customer_id'].head()"
   ]
  },
  {
   "cell_type": "code",
   "execution_count": 39,
   "id": "e85672dc",
   "metadata": {},
   "outputs": [],
   "source": [
    "df ['customer_id'] = df['customer_id'].str[-16:].apply(int, base=16)#.str[-16:].str.hex_to_int().astype('int64')\n",
    "\n",
    "df['t_dat'] = pd.to_datetime(df['t_dat'])\n",
    "last_ts = df['t_dat'].max()"
   ]
  },
  {
   "cell_type": "code",
   "execution_count": 40,
   "id": "a1960940",
   "metadata": {
    "execution": {
     "iopub.execute_input": "2022-03-07T00:43:33.649890Z",
     "iopub.status.busy": "2022-03-07T00:43:33.649169Z",
     "iopub.status.idle": "2022-03-07T00:43:44.772358Z",
     "shell.execute_reply": "2022-03-07T00:43:44.772936Z",
     "shell.execute_reply.started": "2022-03-06T03:58:19.291734Z"
    },
    "papermill": {
     "duration": 11.186764,
     "end_time": "2022-03-07T00:43:44.773094",
     "exception": false,
     "start_time": "2022-03-07T00:43:33.586330",
     "status": "completed"
    },
    "tags": []
   },
   "outputs": [
    {
     "name": "stdout",
     "output_type": "stream",
     "text": [
      "CPU times: user 6.94 s, sys: 484 ms, total: 7.42 s\n",
      "Wall time: 7.14 s\n"
     ]
    }
   ],
   "source": [
    "%%time\n",
    "tmp = df[['t_dat']].copy()\n",
    "tmp['dow'] = tmp['t_dat'].dt.dayofweek\n",
    "tmp['ldbw'] = tmp['t_dat'] - pd.TimedeltaIndex(tmp['dow'] - 1, unit='D')\n",
    "tmp.loc[tmp['dow'] >=2 , 'ldbw'] = tmp.loc[tmp['dow'] >=2 , 'ldbw'] + pd.TimedeltaIndex(np.ones(len(tmp.loc[tmp['dow'] >=2])) * 7, unit='D')\n",
    "\n",
    "df['ldbw'] = tmp['ldbw'].values"
   ]
  },
  {
   "cell_type": "code",
   "execution_count": 41,
   "id": "13c942bc",
   "metadata": {
    "execution": {
     "iopub.execute_input": "2022-03-07T00:43:44.894166Z",
     "iopub.status.busy": "2022-03-07T00:43:44.893340Z",
     "iopub.status.idle": "2022-03-07T00:43:45.092874Z",
     "shell.execute_reply": "2022-03-07T00:43:45.092368Z"
    },
    "papermill": {
     "duration": 0.262268,
     "end_time": "2022-03-07T00:43:45.092993",
     "exception": false,
     "start_time": "2022-03-07T00:43:44.830725",
     "status": "completed"
    },
    "tags": []
   },
   "outputs": [],
   "source": [
    "weekly_sales = df.drop('customer_id', axis=1).groupby(['ldbw', 'article_id']).count().reset_index()\n",
    "weekly_sales = weekly_sales.rename(columns={'t_dat': 'count'})\n",
    "df = df.merge(weekly_sales, on=['ldbw', 'article_id'], how = 'left')"
   ]
  },
  {
   "cell_type": "code",
   "execution_count": 42,
   "id": "8b62a756",
   "metadata": {
    "execution": {
     "iopub.execute_input": "2022-03-07T00:43:45.213282Z",
     "iopub.status.busy": "2022-03-07T00:43:45.212489Z",
     "iopub.status.idle": "2022-03-07T00:43:45.300723Z",
     "shell.execute_reply": "2022-03-07T00:43:45.300279Z"
    },
    "papermill": {
     "duration": 0.150308,
     "end_time": "2022-03-07T00:43:45.300841",
     "exception": false,
     "start_time": "2022-03-07T00:43:45.150533",
     "status": "completed"
    },
    "tags": []
   },
   "outputs": [],
   "source": [
    "weekly_sales = weekly_sales.reset_index().set_index('article_id')\n",
    "\n",
    "df = df.merge(\n",
    "    weekly_sales.loc[weekly_sales['ldbw']==last_ts, ['count']],\n",
    "    on='article_id', suffixes=(\"\", \"_targ\"))\n",
    "\n",
    "df['count_targ'].fillna(0, inplace=True)\n",
    "del weekly_sales"
   ]
  },
  {
   "cell_type": "code",
   "execution_count": 43,
   "id": "a568f961",
   "metadata": {
    "execution": {
     "iopub.execute_input": "2022-03-07T00:43:45.423941Z",
     "iopub.status.busy": "2022-03-07T00:43:45.423326Z",
     "iopub.status.idle": "2022-03-07T00:43:45.481360Z",
     "shell.execute_reply": "2022-03-07T00:43:45.480915Z"
    },
    "papermill": {
     "duration": 0.122416,
     "end_time": "2022-03-07T00:43:45.481490",
     "exception": false,
     "start_time": "2022-03-07T00:43:45.359074",
     "status": "completed"
    },
    "tags": []
   },
   "outputs": [],
   "source": [
    "df['quotient'] = df['count_targ'] / df['count']\n",
    "target_sales = df.drop('customer_id', axis=1).groupby('article_id')['quotient'].sum()\n",
    "general_pred = target_sales.nlargest(N).index.tolist()\n",
    "general_pred = ['0' + str(article_id) for article_id in general_pred]\n",
    "general_pred_str =  ' '.join(general_pred)\n",
    "del target_sales"
   ]
  },
  {
   "cell_type": "code",
   "execution_count": 44,
   "id": "48d493d2",
   "metadata": {
    "execution": {
     "iopub.execute_input": "2022-03-07T00:43:45.606282Z",
     "iopub.status.busy": "2022-03-07T00:43:45.605546Z",
     "iopub.status.idle": "2022-03-07T00:44:15.469072Z",
     "shell.execute_reply": "2022-03-07T00:44:15.468643Z"
    },
    "papermill": {
     "duration": 29.929493,
     "end_time": "2022-03-07T00:44:15.469204",
     "exception": false,
     "start_time": "2022-03-07T00:43:45.539711",
     "status": "completed"
    },
    "tags": []
   },
   "outputs": [
    {
     "name": "stdout",
     "output_type": "stream",
     "text": [
      "CPU times: user 17.8 s, sys: 1.86 s, total: 19.6 s\n",
      "Wall time: 19.1 s\n"
     ]
    }
   ],
   "source": [
    "%%time\n",
    "purchase_dict = {}\n",
    "\n",
    "tmp = df.copy()#.to_pandas()\n",
    "tmp['x'] = ((last_ts - tmp['t_dat']) / np.timedelta64(1, 'D')).astype(int)\n",
    "tmp['dummy_1'] = 1 \n",
    "tmp['x'] = tmp[[\"x\", \"dummy_1\"]].max(axis=1)\n",
    "\n",
    "a, b, c, d = 2.5e4, 1.5e5, 2e-1, 1e3\n",
    "tmp['y'] = a / np.sqrt(tmp['x']) + b * np.exp(-c*tmp['x']) - d\n",
    "\n",
    "tmp['dummy_0'] = 0 \n",
    "tmp['y'] = tmp[[\"y\", \"dummy_0\"]].max(axis=1)\n",
    "tmp['value'] = tmp['quotient'] * tmp['y'] \n",
    "\n",
    "tmp = tmp.groupby(['customer_id', 'article_id']).agg({'value': 'sum'})\n",
    "tmp = tmp.reset_index()\n",
    "\n",
    "tmp = tmp.loc[tmp['value'] > 0]\n",
    "tmp['rank'] = tmp.groupby(\"customer_id\")[\"value\"].rank(\"dense\", ascending=False)\n",
    "tmp = tmp.loc[tmp['rank'] <= 12]\n",
    "\n",
    "# for customer_id in tmp['customer_id'].unique():\n",
    "#     purchase_dict[customer_id] = {} \n",
    "\n",
    "# for customer_id, article_id, value in zip(tmp['customer_id'], tmp['article_id'], tmp['value']):\n",
    "#     purchase_dict[customer_id][article_id] = value\n",
    "\n",
    "purchase_df = tmp.sort_values(['customer_id', 'value'], ascending = False).reset_index(drop = True)\n",
    "purchase_df['prediction'] = '0' + purchase_df['article_id'].astype(str) + ' '\n",
    "purchase_df = purchase_df.groupby('customer_id').agg({'prediction': sum}).reset_index()\n",
    "purchase_df['prediction'] = purchase_df['prediction'].str.strip()\n",
    "#purchase_df = cudf.DataFrame(purchase_df)"
   ]
  },
  {
   "cell_type": "code",
   "execution_count": 45,
   "id": "6f5d6646",
   "metadata": {
    "execution": {
     "iopub.execute_input": "2022-03-07T00:44:15.595502Z",
     "iopub.status.busy": "2022-03-07T00:44:15.594417Z",
     "iopub.status.idle": "2022-03-07T00:44:34.453499Z",
     "shell.execute_reply": "2022-03-07T00:44:34.454124Z"
    },
    "papermill": {
     "duration": 18.925244,
     "end_time": "2022-03-07T00:44:34.454319",
     "exception": false,
     "start_time": "2022-03-07T00:44:15.529075",
     "status": "completed"
    },
    "tags": []
   },
   "outputs": [
    {
     "name": "stdout",
     "output_type": "stream",
     "text": [
      "CPU times: user 12 s, sys: 772 ms, total: 12.7 s\n",
      "Wall time: 12.9 s\n"
     ]
    }
   ],
   "source": [
    "%%time\n",
    "sub  = pd.read_csv('sample_submission.csv', usecols= ['customer_id'], dtype={'customer_id': 'string'})\n",
    "\n",
    "sub['customer_id2'] = sub['customer_id'].str[-16:].apply(int, base=16)\n",
    "\n",
    "sub = sub.merge(purchase_df, left_on = 'customer_id2', right_on = 'customer_id', how = 'left',\n",
    "               suffixes = ('', '_ignored'))\n",
    "\n",
    "sub['prediction'] = sub['prediction'].fillna(general_pred_str)\n",
    "sub['prediction'] = sub['prediction'] + ' ' +  general_pred_str\n",
    "sub['prediction'] = sub['prediction'].str.strip()\n",
    "sub['prediction'] = sub['prediction'].str[:131]\n",
    "sub = sub[['customer_id', 'prediction']]\n",
    "sub.to_csv(f'submission.csv',index=False)"
   ]
  },
  {
   "cell_type": "code",
   "execution_count": 46,
   "id": "5b66d6d8",
   "metadata": {
    "execution": {
     "iopub.execute_input": "2022-03-07T00:44:34.614435Z",
     "iopub.status.busy": "2022-03-07T00:44:34.609238Z",
     "iopub.status.idle": "2022-03-07T00:44:34.635034Z",
     "shell.execute_reply": "2022-03-07T00:44:34.634472Z",
     "shell.execute_reply.started": "2022-03-06T04:00:12.948474Z"
    },
    "papermill": {
     "duration": 0.119829,
     "end_time": "2022-03-07T00:44:34.635156",
     "exception": false,
     "start_time": "2022-03-07T00:44:34.515327",
     "status": "completed"
    },
    "tags": []
   },
   "outputs": [],
   "source": [
    "del sub\n",
    "del purchase_df\n",
    "del tmp\n",
    "del general_pred\n",
    "del df\n",
    "del temp"
   ]
  },
  {
   "cell_type": "markdown",
   "id": "0cc7e284",
   "metadata": {
    "papermill": {
     "duration": 0.058463,
     "end_time": "2022-03-07T00:44:34.753063",
     "exception": false,
     "start_time": "2022-03-07T00:44:34.694600",
     "status": "completed"
    },
    "tags": []
   },
   "source": [
    "# 3. Create dataset and train model with Recbole\n",
    "\n",
    "For anyone need instruction document, please check this link: https://recbole.io/docs/user_guide/usage/use_modules.html"
   ]
  },
  {
   "cell_type": "code",
   "execution_count": 47,
   "id": "1531e5ad",
   "metadata": {
    "execution": {
     "iopub.execute_input": "2022-03-07T00:44:34.876583Z",
     "iopub.status.busy": "2022-03-07T00:44:34.875771Z",
     "iopub.status.idle": "2022-03-07T00:44:36.536883Z",
     "shell.execute_reply": "2022-03-07T00:44:36.536286Z",
     "shell.execute_reply.started": "2022-03-06T04:00:16.35413Z"
    },
    "papermill": {
     "duration": 1.725154,
     "end_time": "2022-03-07T00:44:36.537025",
     "exception": false,
     "start_time": "2022-03-07T00:44:34.811871",
     "status": "completed"
    },
    "tags": []
   },
   "outputs": [],
   "source": [
    "import logging\n",
    "from logging import getLogger\n",
    "from recbole.config import Config\n",
    "from recbole.data import create_dataset, data_preparation\n",
    "from recbole.model.sequential_recommender import GRU4Rec, SASRec, NARM\n",
    "from recbole.trainer import Trainer\n",
    "from recbole.utils import init_seed, init_logger"
   ]
  },
  {
   "cell_type": "markdown",
   "id": "5eb0636b",
   "metadata": {
    "papermill": {
     "duration": 0.058653,
     "end_time": "2022-03-07T00:44:36.655527",
     "exception": false,
     "start_time": "2022-03-07T00:44:36.596874",
     "status": "completed"
    },
    "tags": []
   },
   "source": [
    "for limiting memory and time traning, we will filter for only using user who bought more than 40 items and item which is sold more than 40 times. If you want to train with more data, please change below config\n",
    "* user_inter_num_interval\n",
    "* item_inter_num_interval"
   ]
  },
  {
   "cell_type": "code",
   "execution_count": 63,
   "id": "689cdbdd",
   "metadata": {},
   "outputs": [],
   "source": [
    "!python tuning.py > tuning_sasrec.txt"
   ]
  },
  {
   "cell_type": "code",
   "execution_count": 70,
   "id": "cdc64b0d",
   "metadata": {},
   "outputs": [],
   "source": [
    "parameter_dict = {\n",
    "    'data_path': '.',\n",
    "    'USER_ID_FIELD': 'user_id',\n",
    "    'ITEM_ID_FIELD': 'item_id',\n",
    "    'TIME_FIELD': 'timestamp',\n",
    "    'user_inter_num_interval': \"[40,inf)\",\n",
    "    'item_inter_num_interval': \"[40,inf)\",\n",
    "    'load_col': {'inter': ['user_id', 'item_id', 'timestamp'],\n",
    "                 'item': ['item_id', 'product_code', 'product_type_no', 'product_group_name', \n",
    "                          'graphical_appearance_no',\n",
    "                      'colour_group_code', 'perceived_colour_value_id', 'perceived_colour_master_id',\n",
    "                      'department_no', 'index_code', 'index_group_no', 'section_no', 'garment_group_no']\n",
    "             },\n",
    "    'selected_features': ['product_code', 'product_type_no', 'product_group_name', 'graphical_appearance_no',\n",
    "                          'colour_group_code', 'perceived_colour_value_id', 'perceived_colour_master_id',\n",
    "                          'department_no', 'index_code', 'index_group_no', 'section_no', 'garment_group_no'],\n",
    "    'neg_sampling': None,\n",
    "    'epochs': 300,\n",
    "    'eval_args': {\n",
    "        'split': {'RS': [9, 0, 1]},\n",
    "        'group_by': 'user',\n",
    "        'order': 'TO',\n",
    "        'mode': 'full'},\n",
    "    'n_layers': 2\n",
    "}"
   ]
  },
  {
   "cell_type": "code",
   "execution_count": 68,
   "id": "66ab96ce",
   "metadata": {
    "execution": {
     "iopub.execute_input": "2022-03-07T00:44:36.784221Z",
     "iopub.status.busy": "2022-03-07T00:44:36.781409Z",
     "iopub.status.idle": "2022-03-07T00:44:37.221775Z",
     "shell.execute_reply": "2022-03-07T00:44:37.025641Z",
     "shell.execute_reply.started": "2022-03-06T04:05:08.019757Z"
    },
    "papermill": {
     "duration": 0.50727,
     "end_time": "2022-03-07T00:44:37.221927",
     "exception": false,
     "start_time": "2022-03-07T00:44:36.714657",
     "status": "completed"
    },
    "tags": []
   },
   "outputs": [
    {
     "ename": "ModuleNotFoundError",
     "evalue": "No module named 'lightgbm'",
     "output_type": "error",
     "traceback": [
      "\u001b[0;31m---------------------------------------------------------------------------\u001b[0m",
      "\u001b[0;31mModuleNotFoundError\u001b[0m                       Traceback (most recent call last)",
      "\u001b[0;32m/tmp/ipykernel_13/1219587748.py\u001b[0m in \u001b[0;36m<module>\u001b[0;34m\u001b[0m\n\u001b[1;32m     29\u001b[0m         \u001b[0mparameter_dict\u001b[0m\u001b[0;34m[\u001b[0m\u001b[0;34m'learning_rate'\u001b[0m\u001b[0;34m]\u001b[0m \u001b[0;34m=\u001b[0m \u001b[0mlr\u001b[0m\u001b[0;34m\u001b[0m\u001b[0;34m\u001b[0m\u001b[0m\n\u001b[1;32m     30\u001b[0m         \u001b[0mparameter_dict\u001b[0m\u001b[0;34m[\u001b[0m\u001b[0;34m'dropout_probs'\u001b[0m\u001b[0;34m]\u001b[0m \u001b[0;34m=\u001b[0m \u001b[0mdropout\u001b[0m\u001b[0;34m\u001b[0m\u001b[0;34m\u001b[0m\u001b[0m\n\u001b[0;32m---> 31\u001b[0;31m         \u001b[0mconfig\u001b[0m \u001b[0;34m=\u001b[0m \u001b[0mConfig\u001b[0m\u001b[0;34m(\u001b[0m\u001b[0mmodel\u001b[0m\u001b[0;34m=\u001b[0m\u001b[0;34m''\u001b[0m\u001b[0;34m,\u001b[0m \u001b[0mdataset\u001b[0m\u001b[0;34m=\u001b[0m\u001b[0;34m'recbox_data'\u001b[0m\u001b[0;34m,\u001b[0m \u001b[0mconfig_dict\u001b[0m\u001b[0;34m=\u001b[0m\u001b[0mparameter_dict\u001b[0m\u001b[0;34m)\u001b[0m\u001b[0;34m\u001b[0m\u001b[0;34m\u001b[0m\u001b[0m\n\u001b[0m\u001b[1;32m     32\u001b[0m \u001b[0;34m\u001b[0m\u001b[0m\n\u001b[1;32m     33\u001b[0m         \u001b[0;31m# init random seed\u001b[0m\u001b[0;34m\u001b[0m\u001b[0;34m\u001b[0m\u001b[0;34m\u001b[0m\u001b[0m\n",
      "\u001b[0;32m~/miniconda3/lib/python3.9/site-packages/recbole/config/configurator.py\u001b[0m in \u001b[0;36m__init__\u001b[0;34m(self, model, dataset, config_file_list, config_dict)\u001b[0m\n\u001b[1;32m     73\u001b[0m         \u001b[0mself\u001b[0m\u001b[0;34m.\u001b[0m\u001b[0m_merge_external_config_dict\u001b[0m\u001b[0;34m(\u001b[0m\u001b[0;34m)\u001b[0m\u001b[0;34m\u001b[0m\u001b[0;34m\u001b[0m\u001b[0m\n\u001b[1;32m     74\u001b[0m \u001b[0;34m\u001b[0m\u001b[0m\n\u001b[0;32m---> 75\u001b[0;31m         \u001b[0mself\u001b[0m\u001b[0;34m.\u001b[0m\u001b[0mmodel\u001b[0m\u001b[0;34m,\u001b[0m \u001b[0mself\u001b[0m\u001b[0;34m.\u001b[0m\u001b[0mmodel_class\u001b[0m\u001b[0;34m,\u001b[0m \u001b[0mself\u001b[0m\u001b[0;34m.\u001b[0m\u001b[0mdataset\u001b[0m \u001b[0;34m=\u001b[0m \u001b[0mself\u001b[0m\u001b[0;34m.\u001b[0m\u001b[0m_get_model_and_dataset\u001b[0m\u001b[0;34m(\u001b[0m\u001b[0mmodel\u001b[0m\u001b[0;34m,\u001b[0m \u001b[0mdataset\u001b[0m\u001b[0;34m)\u001b[0m\u001b[0;34m\u001b[0m\u001b[0;34m\u001b[0m\u001b[0m\n\u001b[0m\u001b[1;32m     76\u001b[0m         \u001b[0mself\u001b[0m\u001b[0;34m.\u001b[0m\u001b[0m_load_internal_config_dict\u001b[0m\u001b[0;34m(\u001b[0m\u001b[0mself\u001b[0m\u001b[0;34m.\u001b[0m\u001b[0mmodel\u001b[0m\u001b[0;34m,\u001b[0m \u001b[0mself\u001b[0m\u001b[0;34m.\u001b[0m\u001b[0mmodel_class\u001b[0m\u001b[0;34m,\u001b[0m \u001b[0mself\u001b[0m\u001b[0;34m.\u001b[0m\u001b[0mdataset\u001b[0m\u001b[0;34m)\u001b[0m\u001b[0;34m\u001b[0m\u001b[0;34m\u001b[0m\u001b[0m\n\u001b[1;32m     77\u001b[0m         \u001b[0mself\u001b[0m\u001b[0;34m.\u001b[0m\u001b[0mfinal_config_dict\u001b[0m \u001b[0;34m=\u001b[0m \u001b[0mself\u001b[0m\u001b[0;34m.\u001b[0m\u001b[0m_get_final_config_dict\u001b[0m\u001b[0;34m(\u001b[0m\u001b[0;34m)\u001b[0m\u001b[0;34m\u001b[0m\u001b[0;34m\u001b[0m\u001b[0m\n",
      "\u001b[0;32m~/miniconda3/lib/python3.9/site-packages/recbole/config/configurator.py\u001b[0m in \u001b[0;36m_get_model_and_dataset\u001b[0;34m(self, model, dataset)\u001b[0m\n\u001b[1;32m    187\u001b[0m         \u001b[0;32melse\u001b[0m\u001b[0;34m:\u001b[0m\u001b[0;34m\u001b[0m\u001b[0;34m\u001b[0m\u001b[0m\n\u001b[1;32m    188\u001b[0m             \u001b[0mfinal_model\u001b[0m \u001b[0;34m=\u001b[0m \u001b[0mmodel\u001b[0m\u001b[0;34m\u001b[0m\u001b[0;34m\u001b[0m\u001b[0m\n\u001b[0;32m--> 189\u001b[0;31m             \u001b[0mfinal_model_class\u001b[0m \u001b[0;34m=\u001b[0m \u001b[0mget_model\u001b[0m\u001b[0;34m(\u001b[0m\u001b[0mfinal_model\u001b[0m\u001b[0;34m)\u001b[0m\u001b[0;34m\u001b[0m\u001b[0;34m\u001b[0m\u001b[0m\n\u001b[0m\u001b[1;32m    190\u001b[0m \u001b[0;34m\u001b[0m\u001b[0m\n\u001b[1;32m    191\u001b[0m         \u001b[0;32mif\u001b[0m \u001b[0mdataset\u001b[0m \u001b[0;32mis\u001b[0m \u001b[0;32mNone\u001b[0m\u001b[0;34m:\u001b[0m\u001b[0;34m\u001b[0m\u001b[0;34m\u001b[0m\u001b[0m\n",
      "\u001b[0;32m~/miniconda3/lib/python3.9/site-packages/recbole/utils/utils.py\u001b[0m in \u001b[0;36mget_model\u001b[0;34m(model_name)\u001b[0m\n\u001b[1;32m     67\u001b[0m     \u001b[0;32mfor\u001b[0m \u001b[0msubmodule\u001b[0m \u001b[0;32min\u001b[0m \u001b[0mmodel_submodule\u001b[0m\u001b[0;34m:\u001b[0m\u001b[0;34m\u001b[0m\u001b[0;34m\u001b[0m\u001b[0m\n\u001b[1;32m     68\u001b[0m         \u001b[0mmodule_path\u001b[0m \u001b[0;34m=\u001b[0m \u001b[0;34m'.'\u001b[0m\u001b[0;34m.\u001b[0m\u001b[0mjoin\u001b[0m\u001b[0;34m(\u001b[0m\u001b[0;34m[\u001b[0m\u001b[0;34m'recbole.model'\u001b[0m\u001b[0;34m,\u001b[0m \u001b[0msubmodule\u001b[0m\u001b[0;34m,\u001b[0m \u001b[0mmodel_file_name\u001b[0m\u001b[0;34m]\u001b[0m\u001b[0;34m)\u001b[0m\u001b[0;34m\u001b[0m\u001b[0;34m\u001b[0m\u001b[0m\n\u001b[0;32m---> 69\u001b[0;31m         \u001b[0;32mif\u001b[0m \u001b[0mimportlib\u001b[0m\u001b[0;34m.\u001b[0m\u001b[0mutil\u001b[0m\u001b[0;34m.\u001b[0m\u001b[0mfind_spec\u001b[0m\u001b[0;34m(\u001b[0m\u001b[0mmodule_path\u001b[0m\u001b[0;34m,\u001b[0m \u001b[0m__name__\u001b[0m\u001b[0;34m)\u001b[0m\u001b[0;34m:\u001b[0m\u001b[0;34m\u001b[0m\u001b[0;34m\u001b[0m\u001b[0m\n\u001b[0m\u001b[1;32m     70\u001b[0m             \u001b[0mmodel_module\u001b[0m \u001b[0;34m=\u001b[0m \u001b[0mimportlib\u001b[0m\u001b[0;34m.\u001b[0m\u001b[0mimport_module\u001b[0m\u001b[0;34m(\u001b[0m\u001b[0mmodule_path\u001b[0m\u001b[0;34m,\u001b[0m \u001b[0m__name__\u001b[0m\u001b[0;34m)\u001b[0m\u001b[0;34m\u001b[0m\u001b[0;34m\u001b[0m\u001b[0m\n\u001b[1;32m     71\u001b[0m             \u001b[0;32mbreak\u001b[0m\u001b[0;34m\u001b[0m\u001b[0;34m\u001b[0m\u001b[0m\n",
      "\u001b[0;32m~/miniconda3/lib/python3.9/importlib/util.py\u001b[0m in \u001b[0;36mfind_spec\u001b[0;34m(name, package)\u001b[0m\n\u001b[1;32m     92\u001b[0m         \u001b[0mparent_name\u001b[0m \u001b[0;34m=\u001b[0m \u001b[0mfullname\u001b[0m\u001b[0;34m.\u001b[0m\u001b[0mrpartition\u001b[0m\u001b[0;34m(\u001b[0m\u001b[0;34m'.'\u001b[0m\u001b[0;34m)\u001b[0m\u001b[0;34m[\u001b[0m\u001b[0;36m0\u001b[0m\u001b[0;34m]\u001b[0m\u001b[0;34m\u001b[0m\u001b[0;34m\u001b[0m\u001b[0m\n\u001b[1;32m     93\u001b[0m         \u001b[0;32mif\u001b[0m \u001b[0mparent_name\u001b[0m\u001b[0;34m:\u001b[0m\u001b[0;34m\u001b[0m\u001b[0;34m\u001b[0m\u001b[0m\n\u001b[0;32m---> 94\u001b[0;31m             \u001b[0mparent\u001b[0m \u001b[0;34m=\u001b[0m \u001b[0m__import__\u001b[0m\u001b[0;34m(\u001b[0m\u001b[0mparent_name\u001b[0m\u001b[0;34m,\u001b[0m \u001b[0mfromlist\u001b[0m\u001b[0;34m=\u001b[0m\u001b[0;34m[\u001b[0m\u001b[0;34m'__path__'\u001b[0m\u001b[0;34m]\u001b[0m\u001b[0;34m)\u001b[0m\u001b[0;34m\u001b[0m\u001b[0;34m\u001b[0m\u001b[0m\n\u001b[0m\u001b[1;32m     95\u001b[0m             \u001b[0;32mtry\u001b[0m\u001b[0;34m:\u001b[0m\u001b[0;34m\u001b[0m\u001b[0;34m\u001b[0m\u001b[0m\n\u001b[1;32m     96\u001b[0m                 \u001b[0mparent_path\u001b[0m \u001b[0;34m=\u001b[0m \u001b[0mparent\u001b[0m\u001b[0;34m.\u001b[0m\u001b[0m__path__\u001b[0m\u001b[0;34m\u001b[0m\u001b[0;34m\u001b[0m\u001b[0m\n",
      "\u001b[0;32m~/miniconda3/lib/python3.9/site-packages/recbole/model/exlib_recommender/__init__.py\u001b[0m in \u001b[0;36m<module>\u001b[0;34m\u001b[0m\n\u001b[0;32m----> 1\u001b[0;31m \u001b[0;32mfrom\u001b[0m \u001b[0mrecbole\u001b[0m\u001b[0;34m.\u001b[0m\u001b[0mmodel\u001b[0m\u001b[0;34m.\u001b[0m\u001b[0mexlib_recommender\u001b[0m\u001b[0;34m.\u001b[0m\u001b[0mlightgbm\u001b[0m \u001b[0;32mimport\u001b[0m \u001b[0mlightgbm\u001b[0m\u001b[0;34m\u001b[0m\u001b[0;34m\u001b[0m\u001b[0m\n\u001b[0m\u001b[1;32m      2\u001b[0m \u001b[0;32mfrom\u001b[0m \u001b[0mrecbole\u001b[0m\u001b[0;34m.\u001b[0m\u001b[0mmodel\u001b[0m\u001b[0;34m.\u001b[0m\u001b[0mexlib_recommender\u001b[0m\u001b[0;34m.\u001b[0m\u001b[0mxgboost\u001b[0m \u001b[0;32mimport\u001b[0m \u001b[0mxgboost\u001b[0m\u001b[0;34m\u001b[0m\u001b[0;34m\u001b[0m\u001b[0m\n",
      "\u001b[0;32m~/miniconda3/lib/python3.9/site-packages/recbole/model/exlib_recommender/lightgbm.py\u001b[0m in \u001b[0;36m<module>\u001b[0;34m\u001b[0m\n\u001b[1;32m      9\u001b[0m \"\"\"\n\u001b[1;32m     10\u001b[0m \u001b[0;34m\u001b[0m\u001b[0m\n\u001b[0;32m---> 11\u001b[0;31m \u001b[0;32mimport\u001b[0m \u001b[0mlightgbm\u001b[0m \u001b[0;32mas\u001b[0m \u001b[0mlgb\u001b[0m\u001b[0;34m\u001b[0m\u001b[0;34m\u001b[0m\u001b[0m\n\u001b[0m\u001b[1;32m     12\u001b[0m \u001b[0;32mfrom\u001b[0m \u001b[0mrecbole\u001b[0m\u001b[0;34m.\u001b[0m\u001b[0mutils\u001b[0m \u001b[0;32mimport\u001b[0m \u001b[0mModelType\u001b[0m\u001b[0;34m,\u001b[0m \u001b[0mInputType\u001b[0m\u001b[0;34m\u001b[0m\u001b[0;34m\u001b[0m\u001b[0m\n\u001b[1;32m     13\u001b[0m \u001b[0;34m\u001b[0m\u001b[0m\n",
      "\u001b[0;31mModuleNotFoundError\u001b[0m: No module named 'lightgbm'"
     ]
    }
   ],
   "source": [
    "parameter_dict = {\n",
    "    'data_path': '.',\n",
    "    'USER_ID_FIELD': 'user_id',\n",
    "    'ITEM_ID_FIELD': 'item_id',\n",
    "    'TIME_FIELD': 'timestamp',\n",
    "    'user_inter_num_interval': \"[40,inf)\",\n",
    "    'item_inter_num_interval': \"[40,inf)\",\n",
    "    'load_col': {'inter': ['user_id', 'item_id', 'timestamp'],\n",
    "                 'item': ['item_id', 'product_code', 'product_type_no', 'product_group_name', \n",
    "                          'graphical_appearance_no',\n",
    "                      'colour_group_code', 'perceived_colour_value_id', 'perceived_colour_master_id',\n",
    "                      'department_no', 'index_code', 'index_group_no', 'section_no', 'garment_group_no']\n",
    "             },\n",
    "    'selected_features': ['product_code', 'product_type_no', 'product_group_name', 'graphical_appearance_no',\n",
    "                          'colour_group_code', 'perceived_colour_value_id', 'perceived_colour_master_id',\n",
    "                          'department_no', 'index_code', 'index_group_no', 'section_no', 'garment_group_no'],\n",
    "    'neg_sampling': None,\n",
    "    'epochs': 100,\n",
    "    'eval_args': {\n",
    "        'split': {'RS': [9, 0, 1]},\n",
    "        'group_by': 'user',\n",
    "        'order': 'TO',\n",
    "        'mode': 'full'},\n",
    "    'n_layers': 2\n",
    "}\n",
    "\n",
    "for lr in [0.01,0.005,0.001,0.0005,0.0001]:\n",
    "    for dropout in ['[0.25,0.5]','[0.2,0.2]','[0.1,0.2]']:\n",
    "        parameter_dict['learning_rate'] = lr\n",
    "        parameter_dict['dropout_probs'] = dropout\n",
    "        config = Config(model='', dataset='recbox_data', config_dict=parameter_dict)\n",
    "\n",
    "        # init random seed\n",
    "        init_seed(config['seed'], config['reproducibility'])\n",
    "\n",
    "        # logger initialization\n",
    "        init_logger(config)\n",
    "        logger = getLogger()\n",
    "        # Create handlers\n",
    "        c_handler = logging.StreamHandler()\n",
    "        c_handler.setLevel(logging.INFO)\n",
    "        logger.addHandler(c_handler)\n",
    "\n",
    "        # write config info into log\n",
    "        logger.info(config)\n",
    "        \n",
    "        dataset = create_dataset(config)\n",
    "        logger.info(dataset)\n",
    "        \n",
    "        train_data, valid_data, test_data = data_preparation(config, dataset)\n",
    "        \n",
    "        # model loading and initialization\n",
    "        model = NARM(config, train_data.dataset).to(config['device'])\n",
    "        logger.info(model)\n",
    "\n",
    "        # trainer loading and initialization\n",
    "        trainer = Trainer(config, model)\n",
    "\n",
    "        # model training\n",
    "        best_valid_score, best_valid_result = trainer.fit(train_data)"
   ]
  },
  {
   "cell_type": "code",
   "execution_count": 71,
   "id": "d8d64466",
   "metadata": {
    "execution": {
     "iopub.execute_input": "2022-03-07T00:44:37.551407Z",
     "iopub.status.busy": "2022-03-07T00:44:37.550579Z",
     "iopub.status.idle": "2022-03-07T00:45:56.883181Z",
     "shell.execute_reply": "2022-03-07T00:45:56.869546Z",
     "shell.execute_reply.started": "2022-03-06T04:07:50.705401Z"
    },
    "papermill": {
     "duration": 79.499073,
     "end_time": "2022-03-07T00:45:56.883304",
     "exception": false,
     "start_time": "2022-03-07T00:44:37.384231",
     "status": "completed"
    },
    "tags": []
   },
   "outputs": [],
   "source": [
    "parameter_dict['learning_rate'] = 0.001\n",
    "parameter_dict['n_layers'] = 2\n",
    "parameter_dict['n_heads'] = 1\n",
    "config = Config(model='SASRec', dataset='recbox_data', config_dict=parameter_dict)\n",
    "\n",
    "dataset = create_dataset(config)\n",
    "#logger.info(dataset)"
   ]
  },
  {
   "cell_type": "code",
   "execution_count": 72,
   "id": "71ca2a71",
   "metadata": {
    "execution": {
     "iopub.execute_input": "2022-03-07T00:45:57.228043Z",
     "iopub.status.busy": "2022-03-07T00:45:57.227429Z",
     "iopub.status.idle": "2022-03-07T00:46:13.313249Z",
     "shell.execute_reply": "2022-03-07T00:46:13.312809Z",
     "shell.execute_reply.started": "2022-03-06T04:09:57.881861Z"
    },
    "papermill": {
     "duration": 16.264066,
     "end_time": "2022-03-07T00:46:13.313368",
     "exception": false,
     "start_time": "2022-03-07T00:45:57.049302",
     "status": "completed"
    },
    "tags": []
   },
   "outputs": [],
   "source": [
    "# dataset splitting\n",
    "train_data, valid_data, test_data = data_preparation(config, dataset)"
   ]
  },
  {
   "cell_type": "code",
   "execution_count": 73,
   "id": "f8df5400",
   "metadata": {
    "execution": {
     "iopub.execute_input": "2022-03-07T00:46:13.676471Z",
     "iopub.status.busy": "2022-03-07T00:46:13.675797Z",
     "iopub.status.idle": "2022-03-07T00:58:40.064349Z",
     "shell.execute_reply": "2022-03-07T00:58:40.063403Z",
     "shell.execute_reply.started": "2022-03-06T04:10:47.688512Z"
    },
    "papermill": {
     "duration": 746.567657,
     "end_time": "2022-03-07T00:58:40.064479",
     "exception": false,
     "start_time": "2022-03-07T00:46:13.496822",
     "status": "completed"
    },
    "scrolled": true,
    "tags": []
   },
   "outputs": [],
   "source": [
    "# model loading and initialization\n",
    "model = SASRec(config, train_data.dataset).to(config['device'])\n",
    "#logger.info(model)\n",
    "\n",
    "# trainer loading and initialization\n",
    "trainer = Trainer(config, model)\n",
    "\n",
    "# model training\n",
    "best_valid_score, best_valid_result = trainer.fit(train_data)"
   ]
  },
  {
   "cell_type": "markdown",
   "id": "09fad19f",
   "metadata": {
    "papermill": {
     "duration": 0.597615,
     "end_time": "2022-03-07T00:58:41.012081",
     "exception": false,
     "start_time": "2022-03-07T00:58:40.414466",
     "status": "completed"
    },
    "tags": []
   },
   "source": [
    "# 4. Create recommendation result from trained model\n",
    "\n",
    "I note document here for any one want to customize it: https://recbole.io/docs/user_guide/usage/case_study.html"
   ]
  },
  {
   "cell_type": "code",
   "execution_count": 74,
   "id": "d42fe5dd",
   "metadata": {
    "execution": {
     "iopub.execute_input": "2022-03-07T00:58:41.734949Z",
     "iopub.status.busy": "2022-03-07T00:58:41.734269Z",
     "iopub.status.idle": "2022-03-07T00:58:41.742027Z",
     "shell.execute_reply": "2022-03-07T00:58:41.741611Z",
     "shell.execute_reply.started": "2022-03-06T04:12:21.886337Z"
    },
    "papermill": {
     "duration": 0.360344,
     "end_time": "2022-03-07T00:58:41.742142",
     "exception": false,
     "start_time": "2022-03-07T00:58:41.381798",
     "status": "completed"
    },
    "tags": []
   },
   "outputs": [],
   "source": [
    "from recbole.utils.case_study import full_sort_topk\n",
    "external_user_ids = dataset.id2token(\n",
    "    dataset.uid_field, list(range(dataset.user_num)))[1:]#fist element in array is 'PAD'(default of Recbole) ->remove it "
   ]
  },
  {
   "cell_type": "code",
   "execution_count": 75,
   "id": "28c145fa",
   "metadata": {},
   "outputs": [
    {
     "data": {
      "text/plain": [
       "SASRec(\n",
       "  (item_embedding): Embedding(12134, 64, padding_idx=0)\n",
       "  (position_embedding): Embedding(50, 64)\n",
       "  (trm_encoder): TransformerEncoder(\n",
       "    (layer): ModuleList(\n",
       "      (0): TransformerLayer(\n",
       "        (multi_head_attention): MultiHeadAttention(\n",
       "          (query): Linear(in_features=64, out_features=64, bias=True)\n",
       "          (key): Linear(in_features=64, out_features=64, bias=True)\n",
       "          (value): Linear(in_features=64, out_features=64, bias=True)\n",
       "          (softmax): Softmax(dim=-1)\n",
       "          (attn_dropout): Dropout(p=0.5, inplace=False)\n",
       "          (dense): Linear(in_features=64, out_features=64, bias=True)\n",
       "          (LayerNorm): LayerNorm((64,), eps=1e-12, elementwise_affine=True)\n",
       "          (out_dropout): Dropout(p=0.5, inplace=False)\n",
       "        )\n",
       "        (feed_forward): FeedForward(\n",
       "          (dense_1): Linear(in_features=64, out_features=256, bias=True)\n",
       "          (dense_2): Linear(in_features=256, out_features=64, bias=True)\n",
       "          (LayerNorm): LayerNorm((64,), eps=1e-12, elementwise_affine=True)\n",
       "          (dropout): Dropout(p=0.5, inplace=False)\n",
       "        )\n",
       "      )\n",
       "      (1): TransformerLayer(\n",
       "        (multi_head_attention): MultiHeadAttention(\n",
       "          (query): Linear(in_features=64, out_features=64, bias=True)\n",
       "          (key): Linear(in_features=64, out_features=64, bias=True)\n",
       "          (value): Linear(in_features=64, out_features=64, bias=True)\n",
       "          (softmax): Softmax(dim=-1)\n",
       "          (attn_dropout): Dropout(p=0.5, inplace=False)\n",
       "          (dense): Linear(in_features=64, out_features=64, bias=True)\n",
       "          (LayerNorm): LayerNorm((64,), eps=1e-12, elementwise_affine=True)\n",
       "          (out_dropout): Dropout(p=0.5, inplace=False)\n",
       "        )\n",
       "        (feed_forward): FeedForward(\n",
       "          (dense_1): Linear(in_features=64, out_features=256, bias=True)\n",
       "          (dense_2): Linear(in_features=256, out_features=64, bias=True)\n",
       "          (LayerNorm): LayerNorm((64,), eps=1e-12, elementwise_affine=True)\n",
       "          (dropout): Dropout(p=0.5, inplace=False)\n",
       "        )\n",
       "      )\n",
       "    )\n",
       "  )\n",
       "  (LayerNorm): LayerNorm((64,), eps=1e-12, elementwise_affine=True)\n",
       "  (dropout): Dropout(p=0.5, inplace=False)\n",
       "  (loss_fct): CrossEntropyLoss()\n",
       ")"
      ]
     },
     "execution_count": 75,
     "metadata": {},
     "output_type": "execute_result"
    }
   ],
   "source": [
    "import torch\n",
    "\n",
    "\n",
    "checkpoint = torch.load('/project/saved/SASRec-Mar-23-2022_16-58-56.pth', map_location=torch.device('cuda'))\n",
    "\n",
    "model.load_state_dict(checkpoint['state_dict'])\n",
    "model.to('cuda')"
   ]
  },
  {
   "cell_type": "code",
   "execution_count": 76,
   "id": "ad23b051",
   "metadata": {
    "execution": {
     "iopub.execute_input": "2022-03-07T00:58:42.442940Z",
     "iopub.status.busy": "2022-03-07T00:58:42.442255Z",
     "iopub.status.idle": "2022-03-07T00:59:15.055213Z",
     "shell.execute_reply": "2022-03-07T00:59:15.054692Z",
     "shell.execute_reply.started": "2022-03-06T04:12:23.081311Z"
    },
    "papermill": {
     "duration": 32.964371,
     "end_time": "2022-03-07T00:59:15.055336",
     "exception": false,
     "start_time": "2022-03-07T00:58:42.090965",
     "status": "completed"
    },
    "tags": []
   },
   "outputs": [
    {
     "name": "stderr",
     "output_type": "stream",
     "text": [
      "100%|██████████████████████████████████████| 31350/31350 [01:39<00:00, 315.92it/s]"
     ]
    },
    {
     "name": "stdout",
     "output_type": "stream",
     "text": [
      "31350\n"
     ]
    },
    {
     "name": "stderr",
     "output_type": "stream",
     "text": [
      "\n"
     ]
    }
   ],
   "source": [
    "from tqdm import tqdm\n",
    "\n",
    "topk_items = []\n",
    "for internal_user_id in tqdm(list(range(dataset.user_num))[1:]):\n",
    "    _, topk_iid_list = full_sort_topk([internal_user_id], model, test_data, k=12, device=config['device'])\n",
    "    last_topk_iid_list = topk_iid_list[-1]\n",
    "    external_item_list = dataset.id2token(dataset.iid_field, last_topk_iid_list.cpu()).tolist()\n",
    "    topk_items.append(external_item_list)\n",
    "print(len(topk_items))"
   ]
  },
  {
   "cell_type": "code",
   "execution_count": 77,
   "id": "e063fcdf",
   "metadata": {
    "execution": {
     "iopub.execute_input": "2022-03-07T00:59:15.775334Z",
     "iopub.status.busy": "2022-03-07T00:59:15.764849Z",
     "iopub.status.idle": "2022-03-07T00:59:15.779550Z",
     "shell.execute_reply": "2022-03-07T00:59:15.779126Z",
     "shell.execute_reply.started": "2022-03-06T04:16:28.526644Z"
    },
    "papermill": {
     "duration": 0.376632,
     "end_time": "2022-03-07T00:59:15.779673",
     "exception": false,
     "start_time": "2022-03-07T00:59:15.403041",
     "status": "completed"
    },
    "tags": []
   },
   "outputs": [
    {
     "data": {
      "text/html": [
       "<div>\n",
       "<style scoped>\n",
       "    .dataframe tbody tr th:only-of-type {\n",
       "        vertical-align: middle;\n",
       "    }\n",
       "\n",
       "    .dataframe tbody tr th {\n",
       "        vertical-align: top;\n",
       "    }\n",
       "\n",
       "    .dataframe thead th {\n",
       "        text-align: right;\n",
       "    }\n",
       "</style>\n",
       "<table border=\"1\" class=\"dataframe\">\n",
       "  <thead>\n",
       "    <tr style=\"text-align: right;\">\n",
       "      <th></th>\n",
       "      <th>customer_id</th>\n",
       "      <th>prediction</th>\n",
       "    </tr>\n",
       "  </thead>\n",
       "  <tbody>\n",
       "    <tr>\n",
       "      <th>0</th>\n",
       "      <td>0006d3ff0caf0cb4d4e0615ee5cb7d268622364d483335...</td>\n",
       "      <td>0915529001 0915529003 0879088001 0903004003 07...</td>\n",
       "    </tr>\n",
       "    <tr>\n",
       "      <th>1</th>\n",
       "      <td>00077dbd5c4a4991e092e63893ccf29294a9d5c46e8501...</td>\n",
       "      <td>0448509014 0714790020 0448509018 0919365008 08...</td>\n",
       "    </tr>\n",
       "    <tr>\n",
       "      <th>2</th>\n",
       "      <td>0040e2fc2d1e7931a38355aca56b2c62b87e65051b7287...</td>\n",
       "      <td>0799365028 0448509014 0806131011 0714790020 07...</td>\n",
       "    </tr>\n",
       "    <tr>\n",
       "      <th>3</th>\n",
       "      <td>00ae9aa00317595e62a0f782228d3a98e017d071d03049...</td>\n",
       "      <td>0808648001 0879763001 0808684002 0852458002 08...</td>\n",
       "    </tr>\n",
       "    <tr>\n",
       "      <th>4</th>\n",
       "      <td>00daef2733086cfb0176a97646cb510472ca608f74c475...</td>\n",
       "      <td>0572998001 0572998009 0448509035 0928088001 04...</td>\n",
       "    </tr>\n",
       "  </tbody>\n",
       "</table>\n",
       "</div>"
      ],
      "text/plain": [
       "                                         customer_id  \\\n",
       "0  0006d3ff0caf0cb4d4e0615ee5cb7d268622364d483335...   \n",
       "1  00077dbd5c4a4991e092e63893ccf29294a9d5c46e8501...   \n",
       "2  0040e2fc2d1e7931a38355aca56b2c62b87e65051b7287...   \n",
       "3  00ae9aa00317595e62a0f782228d3a98e017d071d03049...   \n",
       "4  00daef2733086cfb0176a97646cb510472ca608f74c475...   \n",
       "\n",
       "                                          prediction  \n",
       "0  0915529001 0915529003 0879088001 0903004003 07...  \n",
       "1  0448509014 0714790020 0448509018 0919365008 08...  \n",
       "2  0799365028 0448509014 0806131011 0714790020 07...  \n",
       "3  0808648001 0879763001 0808684002 0852458002 08...  \n",
       "4  0572998001 0572998009 0448509035 0928088001 04...  "
      ]
     },
     "execution_count": 77,
     "metadata": {},
     "output_type": "execute_result"
    }
   ],
   "source": [
    "external_item_str = [' '.join(x) for x in topk_items]\n",
    "result = pd.DataFrame(external_user_ids, columns=['customer_id'])\n",
    "result['prediction'] = external_item_str\n",
    "result.head()"
   ]
  },
  {
   "cell_type": "markdown",
   "id": "c624bb83",
   "metadata": {
    "papermill": {
     "duration": 0.3491,
     "end_time": "2022-03-07T00:59:16.478486",
     "exception": false,
     "start_time": "2022-03-07T00:59:16.129386",
     "status": "completed"
    },
    "tags": []
   },
   "source": [
    "# 5. Combine result from most bought items and GRU model"
   ]
  },
  {
   "cell_type": "code",
   "execution_count": 78,
   "id": "ea5637d3",
   "metadata": {
    "execution": {
     "iopub.execute_input": "2022-03-07T00:59:17.238397Z",
     "iopub.status.busy": "2022-03-07T00:59:17.237636Z",
     "iopub.status.idle": "2022-03-07T00:59:20.560574Z",
     "shell.execute_reply": "2022-03-07T00:59:20.560038Z",
     "shell.execute_reply.started": "2022-03-06T04:16:28.555683Z"
    },
    "papermill": {
     "duration": 3.683405,
     "end_time": "2022-03-07T00:59:20.560707",
     "exception": false,
     "start_time": "2022-03-07T00:59:16.877302",
     "status": "completed"
    },
    "tags": []
   },
   "outputs": [
    {
     "data": {
      "text/plain": [
       "(1371980, 2)"
      ]
     },
     "execution_count": 78,
     "metadata": {},
     "output_type": "execute_result"
    }
   ],
   "source": [
    "submit_df = pd.read_csv('submission.csv')\n",
    "submit_df.shape"
   ]
  },
  {
   "cell_type": "code",
   "execution_count": 79,
   "id": "8b13924a",
   "metadata": {
    "execution": {
     "iopub.execute_input": "2022-03-07T00:59:21.265755Z",
     "iopub.status.busy": "2022-03-07T00:59:21.265127Z",
     "iopub.status.idle": "2022-03-07T00:59:21.269619Z",
     "shell.execute_reply": "2022-03-07T00:59:21.269193Z",
     "shell.execute_reply.started": "2022-03-06T04:16:33.008055Z"
    },
    "papermill": {
     "duration": 0.359065,
     "end_time": "2022-03-07T00:59:21.269738",
     "exception": false,
     "start_time": "2022-03-07T00:59:20.910673",
     "status": "completed"
    },
    "tags": []
   },
   "outputs": [
    {
     "data": {
      "text/html": [
       "<div>\n",
       "<style scoped>\n",
       "    .dataframe tbody tr th:only-of-type {\n",
       "        vertical-align: middle;\n",
       "    }\n",
       "\n",
       "    .dataframe tbody tr th {\n",
       "        vertical-align: top;\n",
       "    }\n",
       "\n",
       "    .dataframe thead th {\n",
       "        text-align: right;\n",
       "    }\n",
       "</style>\n",
       "<table border=\"1\" class=\"dataframe\">\n",
       "  <thead>\n",
       "    <tr style=\"text-align: right;\">\n",
       "      <th></th>\n",
       "      <th>customer_id</th>\n",
       "      <th>prediction</th>\n",
       "    </tr>\n",
       "  </thead>\n",
       "  <tbody>\n",
       "    <tr>\n",
       "      <th>0</th>\n",
       "      <td>00000dbacae5abe5e23885899a1fa44253a17956c6d1c3...</td>\n",
       "      <td>0568601043 0568601006 0656719005 0745232001 07...</td>\n",
       "    </tr>\n",
       "    <tr>\n",
       "      <th>1</th>\n",
       "      <td>0000423b00ade91418cceaf3b26c6af3dd342b51fd051e...</td>\n",
       "      <td>0826211002 0800436010 0739590027 0723529001 08...</td>\n",
       "    </tr>\n",
       "    <tr>\n",
       "      <th>2</th>\n",
       "      <td>000058a12d5b43e67d225668fa1f8d618c13dc232df0ca...</td>\n",
       "      <td>0794321007 0852643001 0852643003 0858883002 07...</td>\n",
       "    </tr>\n",
       "    <tr>\n",
       "      <th>3</th>\n",
       "      <td>00005ca1c9ed5f5146b52ac8639a40ca9d57aeff4d1bd2...</td>\n",
       "      <td>0448509014 0573085028 0751471001 0706016001 06...</td>\n",
       "    </tr>\n",
       "    <tr>\n",
       "      <th>4</th>\n",
       "      <td>00006413d8573cd20ed7128e53b7b13819fe5cfc2d801f...</td>\n",
       "      <td>0730683050 0791587015 0896152002 0818320001 09...</td>\n",
       "    </tr>\n",
       "  </tbody>\n",
       "</table>\n",
       "</div>"
      ],
      "text/plain": [
       "                                         customer_id  \\\n",
       "0  00000dbacae5abe5e23885899a1fa44253a17956c6d1c3...   \n",
       "1  0000423b00ade91418cceaf3b26c6af3dd342b51fd051e...   \n",
       "2  000058a12d5b43e67d225668fa1f8d618c13dc232df0ca...   \n",
       "3  00005ca1c9ed5f5146b52ac8639a40ca9d57aeff4d1bd2...   \n",
       "4  00006413d8573cd20ed7128e53b7b13819fe5cfc2d801f...   \n",
       "\n",
       "                                          prediction  \n",
       "0  0568601043 0568601006 0656719005 0745232001 07...  \n",
       "1  0826211002 0800436010 0739590027 0723529001 08...  \n",
       "2  0794321007 0852643001 0852643003 0858883002 07...  \n",
       "3  0448509014 0573085028 0751471001 0706016001 06...  \n",
       "4  0730683050 0791587015 0896152002 0818320001 09...  "
      ]
     },
     "execution_count": 79,
     "metadata": {},
     "output_type": "execute_result"
    }
   ],
   "source": [
    "submit_df.head()"
   ]
  },
  {
   "cell_type": "code",
   "execution_count": 80,
   "id": "4899e5de",
   "metadata": {
    "execution": {
     "iopub.execute_input": "2022-03-07T00:59:21.974044Z",
     "iopub.status.busy": "2022-03-07T00:59:21.972991Z",
     "iopub.status.idle": "2022-03-07T00:59:22.704034Z",
     "shell.execute_reply": "2022-03-07T00:59:22.703600Z",
     "shell.execute_reply.started": "2022-03-06T04:16:33.061738Z"
    },
    "papermill": {
     "duration": 1.085172,
     "end_time": "2022-03-07T00:59:22.704158",
     "exception": false,
     "start_time": "2022-03-07T00:59:21.618986",
     "status": "completed"
    },
    "tags": []
   },
   "outputs": [
    {
     "data": {
      "text/html": [
       "<div>\n",
       "<style scoped>\n",
       "    .dataframe tbody tr th:only-of-type {\n",
       "        vertical-align: middle;\n",
       "    }\n",
       "\n",
       "    .dataframe tbody tr th {\n",
       "        vertical-align: top;\n",
       "    }\n",
       "\n",
       "    .dataframe thead th {\n",
       "        text-align: right;\n",
       "    }\n",
       "</style>\n",
       "<table border=\"1\" class=\"dataframe\">\n",
       "  <thead>\n",
       "    <tr style=\"text-align: right;\">\n",
       "      <th></th>\n",
       "      <th>customer_id</th>\n",
       "      <th>prediction_x</th>\n",
       "      <th>prediction_y</th>\n",
       "    </tr>\n",
       "  </thead>\n",
       "  <tbody>\n",
       "    <tr>\n",
       "      <th>0</th>\n",
       "      <td>00000dbacae5abe5e23885899a1fa44253a17956c6d1c3...</td>\n",
       "      <td>0568601043 0568601006 0656719005 0745232001 07...</td>\n",
       "      <td>NaN</td>\n",
       "    </tr>\n",
       "    <tr>\n",
       "      <th>1</th>\n",
       "      <td>0000423b00ade91418cceaf3b26c6af3dd342b51fd051e...</td>\n",
       "      <td>0826211002 0800436010 0739590027 0723529001 08...</td>\n",
       "      <td>NaN</td>\n",
       "    </tr>\n",
       "    <tr>\n",
       "      <th>2</th>\n",
       "      <td>000058a12d5b43e67d225668fa1f8d618c13dc232df0ca...</td>\n",
       "      <td>0794321007 0852643001 0852643003 0858883002 07...</td>\n",
       "      <td>NaN</td>\n",
       "    </tr>\n",
       "    <tr>\n",
       "      <th>3</th>\n",
       "      <td>00005ca1c9ed5f5146b52ac8639a40ca9d57aeff4d1bd2...</td>\n",
       "      <td>0448509014 0573085028 0751471001 0706016001 06...</td>\n",
       "      <td>NaN</td>\n",
       "    </tr>\n",
       "    <tr>\n",
       "      <th>4</th>\n",
       "      <td>00006413d8573cd20ed7128e53b7b13819fe5cfc2d801f...</td>\n",
       "      <td>0730683050 0791587015 0896152002 0818320001 09...</td>\n",
       "      <td>NaN</td>\n",
       "    </tr>\n",
       "  </tbody>\n",
       "</table>\n",
       "</div>"
      ],
      "text/plain": [
       "                                         customer_id  \\\n",
       "0  00000dbacae5abe5e23885899a1fa44253a17956c6d1c3...   \n",
       "1  0000423b00ade91418cceaf3b26c6af3dd342b51fd051e...   \n",
       "2  000058a12d5b43e67d225668fa1f8d618c13dc232df0ca...   \n",
       "3  00005ca1c9ed5f5146b52ac8639a40ca9d57aeff4d1bd2...   \n",
       "4  00006413d8573cd20ed7128e53b7b13819fe5cfc2d801f...   \n",
       "\n",
       "                                        prediction_x prediction_y  \n",
       "0  0568601043 0568601006 0656719005 0745232001 07...          NaN  \n",
       "1  0826211002 0800436010 0739590027 0723529001 08...          NaN  \n",
       "2  0794321007 0852643001 0852643003 0858883002 07...          NaN  \n",
       "3  0448509014 0573085028 0751471001 0706016001 06...          NaN  \n",
       "4  0730683050 0791587015 0896152002 0818320001 09...          NaN  "
      ]
     },
     "execution_count": 80,
     "metadata": {},
     "output_type": "execute_result"
    }
   ],
   "source": [
    "submit_df = pd.merge(submit_df, result, on='customer_id', how='outer')\n",
    "submit_df.head()"
   ]
  },
  {
   "cell_type": "code",
   "execution_count": 81,
   "id": "bcc755a4",
   "metadata": {
    "execution": {
     "iopub.execute_input": "2022-03-07T00:59:23.412316Z",
     "iopub.status.busy": "2022-03-07T00:59:23.410925Z",
     "iopub.status.idle": "2022-03-07T00:59:47.545313Z",
     "shell.execute_reply": "2022-03-07T00:59:47.544823Z",
     "shell.execute_reply.started": "2022-03-06T04:16:33.823064Z"
    },
    "papermill": {
     "duration": 24.490057,
     "end_time": "2022-03-07T00:59:47.545463",
     "exception": false,
     "start_time": "2022-03-07T00:59:23.055406",
     "status": "completed"
    },
    "tags": []
   },
   "outputs": [
    {
     "data": {
      "text/html": [
       "<div>\n",
       "<style scoped>\n",
       "    .dataframe tbody tr th:only-of-type {\n",
       "        vertical-align: middle;\n",
       "    }\n",
       "\n",
       "    .dataframe tbody tr th {\n",
       "        vertical-align: top;\n",
       "    }\n",
       "\n",
       "    .dataframe thead th {\n",
       "        text-align: right;\n",
       "    }\n",
       "</style>\n",
       "<table border=\"1\" class=\"dataframe\">\n",
       "  <thead>\n",
       "    <tr style=\"text-align: right;\">\n",
       "      <th></th>\n",
       "      <th>customer_id</th>\n",
       "      <th>prediction_x</th>\n",
       "      <th>prediction_y</th>\n",
       "      <th>prediction</th>\n",
       "    </tr>\n",
       "  </thead>\n",
       "  <tbody>\n",
       "    <tr>\n",
       "      <th>0</th>\n",
       "      <td>00000dbacae5abe5e23885899a1fa44253a17956c6d1c3...</td>\n",
       "      <td>0568601043 0568601006 0656719005 0745232001 07...</td>\n",
       "      <td>-1</td>\n",
       "      <td>0568601043 0568601006 0656719005 0745232001 07...</td>\n",
       "    </tr>\n",
       "    <tr>\n",
       "      <th>1</th>\n",
       "      <td>0000423b00ade91418cceaf3b26c6af3dd342b51fd051e...</td>\n",
       "      <td>0826211002 0800436010 0739590027 0723529001 08...</td>\n",
       "      <td>-1</td>\n",
       "      <td>0826211002 0800436010 0739590027 0723529001 08...</td>\n",
       "    </tr>\n",
       "    <tr>\n",
       "      <th>2</th>\n",
       "      <td>000058a12d5b43e67d225668fa1f8d618c13dc232df0ca...</td>\n",
       "      <td>0794321007 0852643001 0852643003 0858883002 07...</td>\n",
       "      <td>-1</td>\n",
       "      <td>0794321007 0852643001 0852643003 0858883002 07...</td>\n",
       "    </tr>\n",
       "    <tr>\n",
       "      <th>3</th>\n",
       "      <td>00005ca1c9ed5f5146b52ac8639a40ca9d57aeff4d1bd2...</td>\n",
       "      <td>0448509014 0573085028 0751471001 0706016001 06...</td>\n",
       "      <td>-1</td>\n",
       "      <td>0448509014 0573085028 0751471001 0706016001 06...</td>\n",
       "    </tr>\n",
       "    <tr>\n",
       "      <th>4</th>\n",
       "      <td>00006413d8573cd20ed7128e53b7b13819fe5cfc2d801f...</td>\n",
       "      <td>0730683050 0791587015 0896152002 0818320001 09...</td>\n",
       "      <td>-1</td>\n",
       "      <td>0730683050 0791587015 0896152002 0818320001 09...</td>\n",
       "    </tr>\n",
       "  </tbody>\n",
       "</table>\n",
       "</div>"
      ],
      "text/plain": [
       "                                         customer_id  \\\n",
       "0  00000dbacae5abe5e23885899a1fa44253a17956c6d1c3...   \n",
       "1  0000423b00ade91418cceaf3b26c6af3dd342b51fd051e...   \n",
       "2  000058a12d5b43e67d225668fa1f8d618c13dc232df0ca...   \n",
       "3  00005ca1c9ed5f5146b52ac8639a40ca9d57aeff4d1bd2...   \n",
       "4  00006413d8573cd20ed7128e53b7b13819fe5cfc2d801f...   \n",
       "\n",
       "                                        prediction_x prediction_y  \\\n",
       "0  0568601043 0568601006 0656719005 0745232001 07...           -1   \n",
       "1  0826211002 0800436010 0739590027 0723529001 08...           -1   \n",
       "2  0794321007 0852643001 0852643003 0858883002 07...           -1   \n",
       "3  0448509014 0573085028 0751471001 0706016001 06...           -1   \n",
       "4  0730683050 0791587015 0896152002 0818320001 09...           -1   \n",
       "\n",
       "                                          prediction  \n",
       "0  0568601043 0568601006 0656719005 0745232001 07...  \n",
       "1  0826211002 0800436010 0739590027 0723529001 08...  \n",
       "2  0794321007 0852643001 0852643003 0858883002 07...  \n",
       "3  0448509014 0573085028 0751471001 0706016001 06...  \n",
       "4  0730683050 0791587015 0896152002 0818320001 09...  "
      ]
     },
     "execution_count": 81,
     "metadata": {},
     "output_type": "execute_result"
    }
   ],
   "source": [
    "submit_df = submit_df.fillna(-1)\n",
    "submit_df['prediction'] = submit_df.apply(\n",
    "    lambda x: x['prediction_y'] if x['prediction_y'] != -1 else x['prediction_x'], axis=1)\n",
    "submit_df.head()"
   ]
  },
  {
   "cell_type": "code",
   "execution_count": 82,
   "id": "4fb35670",
   "metadata": {
    "execution": {
     "iopub.execute_input": "2022-03-07T00:59:48.253365Z",
     "iopub.status.busy": "2022-03-07T00:59:48.251995Z",
     "iopub.status.idle": "2022-03-07T00:59:48.543337Z",
     "shell.execute_reply": "2022-03-07T00:59:48.543775Z",
     "shell.execute_reply.started": "2022-03-06T04:16:56.561646Z"
    },
    "papermill": {
     "duration": 0.647402,
     "end_time": "2022-03-07T00:59:48.543923",
     "exception": false,
     "start_time": "2022-03-07T00:59:47.896521",
     "status": "completed"
    },
    "tags": []
   },
   "outputs": [
    {
     "data": {
      "text/html": [
       "<div>\n",
       "<style scoped>\n",
       "    .dataframe tbody tr th:only-of-type {\n",
       "        vertical-align: middle;\n",
       "    }\n",
       "\n",
       "    .dataframe tbody tr th {\n",
       "        vertical-align: top;\n",
       "    }\n",
       "\n",
       "    .dataframe thead th {\n",
       "        text-align: right;\n",
       "    }\n",
       "</style>\n",
       "<table border=\"1\" class=\"dataframe\">\n",
       "  <thead>\n",
       "    <tr style=\"text-align: right;\">\n",
       "      <th></th>\n",
       "      <th>customer_id</th>\n",
       "      <th>prediction</th>\n",
       "    </tr>\n",
       "  </thead>\n",
       "  <tbody>\n",
       "    <tr>\n",
       "      <th>0</th>\n",
       "      <td>00000dbacae5abe5e23885899a1fa44253a17956c6d1c3...</td>\n",
       "      <td>0568601043 0568601006 0656719005 0745232001 07...</td>\n",
       "    </tr>\n",
       "    <tr>\n",
       "      <th>1</th>\n",
       "      <td>0000423b00ade91418cceaf3b26c6af3dd342b51fd051e...</td>\n",
       "      <td>0826211002 0800436010 0739590027 0723529001 08...</td>\n",
       "    </tr>\n",
       "    <tr>\n",
       "      <th>2</th>\n",
       "      <td>000058a12d5b43e67d225668fa1f8d618c13dc232df0ca...</td>\n",
       "      <td>0794321007 0852643001 0852643003 0858883002 07...</td>\n",
       "    </tr>\n",
       "    <tr>\n",
       "      <th>3</th>\n",
       "      <td>00005ca1c9ed5f5146b52ac8639a40ca9d57aeff4d1bd2...</td>\n",
       "      <td>0448509014 0573085028 0751471001 0706016001 06...</td>\n",
       "    </tr>\n",
       "    <tr>\n",
       "      <th>4</th>\n",
       "      <td>00006413d8573cd20ed7128e53b7b13819fe5cfc2d801f...</td>\n",
       "      <td>0730683050 0791587015 0896152002 0818320001 09...</td>\n",
       "    </tr>\n",
       "  </tbody>\n",
       "</table>\n",
       "</div>"
      ],
      "text/plain": [
       "                                         customer_id  \\\n",
       "0  00000dbacae5abe5e23885899a1fa44253a17956c6d1c3...   \n",
       "1  0000423b00ade91418cceaf3b26c6af3dd342b51fd051e...   \n",
       "2  000058a12d5b43e67d225668fa1f8d618c13dc232df0ca...   \n",
       "3  00005ca1c9ed5f5146b52ac8639a40ca9d57aeff4d1bd2...   \n",
       "4  00006413d8573cd20ed7128e53b7b13819fe5cfc2d801f...   \n",
       "\n",
       "                                          prediction  \n",
       "0  0568601043 0568601006 0656719005 0745232001 07...  \n",
       "1  0826211002 0800436010 0739590027 0723529001 08...  \n",
       "2  0794321007 0852643001 0852643003 0858883002 07...  \n",
       "3  0448509014 0573085028 0751471001 0706016001 06...  \n",
       "4  0730683050 0791587015 0896152002 0818320001 09...  "
      ]
     },
     "execution_count": 82,
     "metadata": {},
     "output_type": "execute_result"
    }
   ],
   "source": [
    "\n",
    "submit_df = submit_df.drop(columns=['prediction_y', 'prediction_x'])\n",
    "submit_df.head()"
   ]
  },
  {
   "cell_type": "code",
   "execution_count": 83,
   "id": "705333f6",
   "metadata": {
    "execution": {
     "iopub.execute_input": "2022-03-07T00:59:49.251677Z",
     "iopub.status.busy": "2022-03-07T00:59:49.250893Z",
     "iopub.status.idle": "2022-03-07T01:00:00.811999Z",
     "shell.execute_reply": "2022-03-07T01:00:00.812836Z",
     "shell.execute_reply.started": "2022-03-06T04:16:56.758327Z"
    },
    "papermill": {
     "duration": 11.917126,
     "end_time": "2022-03-07T01:00:00.813130",
     "exception": false,
     "start_time": "2022-03-07T00:59:48.896004",
     "status": "completed"
    },
    "tags": []
   },
   "outputs": [],
   "source": [
    "submit_df.to_csv('sasrec_001lr_2layers_1head.csv', index=False)"
   ]
  },
  {
   "cell_type": "code",
   "execution_count": null,
   "id": "bf0bb0e1",
   "metadata": {},
   "outputs": [],
   "source": []
  }
 ],
 "metadata": {
  "kernelspec": {
   "display_name": "Python 3 (ipykernel)",
   "language": "python",
   "name": "python3"
  },
  "language_info": {
   "codemirror_mode": {
    "name": "ipython",
    "version": 3
   },
   "file_extension": ".py",
   "mimetype": "text/x-python",
   "name": "python",
   "nbconvert_exporter": "python",
   "pygments_lexer": "ipython3",
   "version": "3.9.5"
  },
  "papermill": {
   "default_parameters": {},
   "duration": 1138.962039,
   "end_time": "2022-03-07T01:00:04.684135",
   "environment_variables": {},
   "exception": null,
   "input_path": "__notebook__.ipynb",
   "output_path": "__notebook__.ipynb",
   "parameters": {},
   "start_time": "2022-03-07T00:41:05.722096",
   "version": "2.3.3"
  }
 },
 "nbformat": 4,
 "nbformat_minor": 5
}
